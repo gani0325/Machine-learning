{
 "cells": [
  {
   "cell_type": "markdown",
   "id": "varying-meeting",
   "metadata": {},
   "source": [
    "# array"
   ]
  },
  {
   "cell_type": "code",
   "execution_count": 39,
   "id": "swiss-estonia",
   "metadata": {},
   "outputs": [],
   "source": [
    "import numpy as np"
   ]
  },
  {
   "cell_type": "code",
   "execution_count": 46,
   "id": "valuable-construction",
   "metadata": {},
   "outputs": [],
   "source": [
    "test_array = np.array([2,3,4],float)"
   ]
  },
  {
   "cell_type": "code",
   "execution_count": 43,
   "id": "willing-warrior",
   "metadata": {},
   "outputs": [
    {
     "name": "stdout",
     "output_type": "stream",
     "text": [
      "[2. 3. 4.]\n",
      "float64\n",
      "(3,)\n"
     ]
    }
   ],
   "source": [
    "print(test_array)\n",
    "type(test_array[2]) # Float Type으로 자동 형변환\n",
    "print(test_array.dtype) # Array 전체의 데이터 type 반환\n",
    "print(test_array.shape) # Array의 shape 반환"
   ]
  },
  {
   "cell_type": "markdown",
   "id": "expired-receiver",
   "metadata": {},
   "source": [
    " ### array(vector, matrix, tensor)의 크기 형태"
   ]
  },
  {
   "cell_type": "code",
   "execution_count": 21,
   "id": "operational-holiday",
   "metadata": {},
   "outputs": [
    {
     "name": "stdout",
     "output_type": "stream",
     "text": [
      "2\n",
      "4\n"
     ]
    }
   ],
   "source": [
    "tensor = [[1,2],[1,2]]\n",
    "print(np.array(tensor, int).ndim) #number of dimension\n",
    "print(np.array(tensor, int).size) #data의 개수"
   ]
  },
  {
   "cell_type": "markdown",
   "id": "heard-sacramento",
   "metadata": {},
   "source": [
    "### dtype\n",
    "#### Ndarray의 요소들이 가지는 data type & memory 크기 결정됨"
   ]
  },
  {
   "cell_type": "code",
   "execution_count": 28,
   "id": "fourth-second",
   "metadata": {},
   "outputs": [
    {
     "name": "stdout",
     "output_type": "stream",
     "text": [
      "[[1 2 3]\n",
      " [7 8 9]]\n",
      "[[1.  2.  3. ]\n",
      " [7.  8.  9.5]]\n"
     ]
    }
   ],
   "source": [
    "print(np.array([[1,2,3],[7,8,9]], dtype= int))\n",
    "print(np.array([[1,2,3],[7,8,9.5]], dtype=np.float32))"
   ]
  },
  {
   "cell_type": "markdown",
   "id": "varying-combine",
   "metadata": {},
   "source": [
    "## Basic type-------Available NumPy types\n",
    "### Boolean-----------------------------------bool\n",
    "###   integar-----------------------int 8, 16, 32, 64, 128, int\n",
    "### Unsigned integer ---------uint 8, 16, 32, 64, 128, uint\n",
    "### Float--------------------------float 32, 64, float, longfloat\n",
    "### Complex----------------------complex64, 128, complex\n",
    "### Strings--------------------------------str, unicode\n",
    "### Object------------------------------------object\n",
    "### Record-------------------------------------void"
   ]
  },
  {
   "cell_type": "markdown",
   "id": "innovative-trustee",
   "metadata": {},
   "source": [
    "# Reshape\n",
    "### arrya의 shape의 크기를 변경함(element 개수 동일)"
   ]
  },
  {
   "cell_type": "code",
   "execution_count": 50,
   "id": "wired-cathedral",
   "metadata": {},
   "outputs": [
    {
     "data": {
      "text/plain": [
       "(2, 4)"
      ]
     },
     "execution_count": 50,
     "metadata": {},
     "output_type": "execute_result"
    }
   ],
   "source": [
    "test_matrix = [[1,2,3,4], [2,3,4,6]]\n",
    "np.array(test_matrix).shape"
   ]
  },
  {
   "cell_type": "code",
   "execution_count": 51,
   "id": "muslim-dispatch",
   "metadata": {},
   "outputs": [
    {
     "data": {
      "text/plain": [
       "array([1, 2, 3, 4, 2, 3, 4, 6])"
      ]
     },
     "execution_count": 51,
     "metadata": {},
     "output_type": "execute_result"
    }
   ],
   "source": [
    "np.array(test_matrix).reshape(8,)"
   ]
  },
  {
   "cell_type": "code",
   "execution_count": 52,
   "id": "visible-philadelphia",
   "metadata": {},
   "outputs": [
    {
     "data": {
      "text/plain": [
       "(8,)"
      ]
     },
     "execution_count": 52,
     "metadata": {},
     "output_type": "execute_result"
    }
   ],
   "source": [
    "np.array(test_matrix).reshape(8,).shape"
   ]
  },
  {
   "cell_type": "code",
   "execution_count": 54,
   "id": "japanese-sword",
   "metadata": {},
   "outputs": [
    {
     "data": {
      "text/plain": [
       "array([[1, 2],\n",
       "       [3, 4],\n",
       "       [2, 3],\n",
       "       [4, 6]])"
      ]
     },
     "execution_count": 54,
     "metadata": {},
     "output_type": "execute_result"
    }
   ],
   "source": [
    "np.array(test_matrix).reshape(-1,2) # -1 : size를 기반으로 row 개수 설정"
   ]
  },
  {
   "cell_type": "code",
   "execution_count": 55,
   "id": "cheap-driver",
   "metadata": {},
   "outputs": [
    {
     "data": {
      "text/plain": [
       "array([[[1, 2],\n",
       "        [3, 4]],\n",
       "\n",
       "       [[2, 3],\n",
       "        [4, 6]]])"
      ]
     },
     "execution_count": 55,
     "metadata": {},
     "output_type": "execute_result"
    }
   ],
   "source": [
    "np.array(test_matrix).reshape(2,2,2)"
   ]
  },
  {
   "cell_type": "code",
   "execution_count": 58,
   "id": "registered-feature",
   "metadata": {},
   "outputs": [
    {
     "data": {
      "text/plain": [
       "array([[[1, 2]],\n",
       "\n",
       "       [[3, 4]],\n",
       "\n",
       "       [[2, 3]],\n",
       "\n",
       "       [[4, 6]]])"
      ]
     },
     "execution_count": 58,
     "metadata": {},
     "output_type": "execute_result"
    }
   ],
   "source": [
    "np.array(test_matrix).reshape(4,-1,2)"
   ]
  },
  {
   "cell_type": "markdown",
   "id": "southwest-strategy",
   "metadata": {},
   "source": [
    "# flatten\n",
    "## 다차원 array를 1차원 array로 변환"
   ]
  },
  {
   "cell_type": "code",
   "execution_count": 59,
   "id": "covered-district",
   "metadata": {},
   "outputs": [],
   "source": [
    "test_matrix = [[1,2,3,4], [2,3,4,6]]"
   ]
  },
  {
   "cell_type": "code",
   "execution_count": 61,
   "id": "continued-mentor",
   "metadata": {},
   "outputs": [
    {
     "data": {
      "text/plain": [
       "array([1, 2, 3, 4, 2, 3, 4, 6])"
      ]
     },
     "execution_count": 61,
     "metadata": {},
     "output_type": "execute_result"
    }
   ],
   "source": [
    "np.array(test_matrix).flatten()"
   ]
  },
  {
   "cell_type": "markdown",
   "id": "smaller-pierre",
   "metadata": {},
   "source": [
    "# indexing\n",
    "## list와 달리 이차원 배열에서 [0, 0]과 같은 표기법 제공\n",
    "## matrix일경우 앞은 row, 뒤는 column"
   ]
  },
  {
   "cell_type": "code",
   "execution_count": 68,
   "id": "close-cigarette",
   "metadata": {},
   "outputs": [],
   "source": [
    "a = np.array([[1,2,3],[3,4,5]], int)"
   ]
  },
  {
   "cell_type": "code",
   "execution_count": 69,
   "id": "romance-lucas",
   "metadata": {},
   "outputs": [
    {
     "name": "stdout",
     "output_type": "stream",
     "text": [
      "[[1 2 3]\n",
      " [3 4 5]]\n"
     ]
    }
   ],
   "source": [
    "print(a)"
   ]
  },
  {
   "cell_type": "code",
   "execution_count": 70,
   "id": "biological-newport",
   "metadata": {},
   "outputs": [
    {
     "name": "stdout",
     "output_type": "stream",
     "text": [
      "1\n",
      "1\n"
     ]
    }
   ],
   "source": [
    "print(a[0,0]) # 2차원\n",
    "print(a[0][0])"
   ]
  },
  {
   "cell_type": "code",
   "execution_count": 71,
   "id": "secret-islam",
   "metadata": {},
   "outputs": [
    {
     "name": "stdout",
     "output_type": "stream",
     "text": [
      "[[12  2  3]\n",
      " [ 3  4  5]]\n"
     ]
    }
   ],
   "source": [
    "a[0,0] = 12\n",
    "print(a)"
   ]
  },
  {
   "cell_type": "markdown",
   "id": "southeast-belgium",
   "metadata": {},
   "source": [
    "# slicing\n",
    "## list와 달리 행과 열 부분을 나눠서 slicing이 가능함\n",
    "## matrix의 부분 집합을 추출할 때 유용함"
   ]
  },
  {
   "cell_type": "code",
   "execution_count": 81,
   "id": "legal-cleaning",
   "metadata": {},
   "outputs": [],
   "source": [
    "a = np.array([[1,2,3,6,7],[4,5,3,4,5]], int)"
   ]
  },
  {
   "cell_type": "code",
   "execution_count": 82,
   "id": "flexible-advice",
   "metadata": {},
   "outputs": [
    {
     "data": {
      "text/plain": [
       "array([[2, 3, 6, 7],\n",
       "       [5, 3, 4, 5]])"
      ]
     },
     "execution_count": 82,
     "metadata": {},
     "output_type": "execute_result"
    }
   ],
   "source": [
    "a[:,1:] #  row 3열 이상"
   ]
  },
  {
   "cell_type": "code",
   "execution_count": 83,
   "id": "horizontal-double",
   "metadata": {},
   "outputs": [
    {
     "data": {
      "text/plain": [
       "array([5, 3])"
      ]
     },
     "execution_count": 83,
     "metadata": {},
     "output_type": "execute_result"
    }
   ],
   "source": [
    "a[1,1:3] "
   ]
  },
  {
   "cell_type": "code",
   "execution_count": 84,
   "id": "widespread-killing",
   "metadata": {},
   "outputs": [
    {
     "data": {
      "text/plain": [
       "array([[1, 2, 3, 6, 7],\n",
       "       [4, 5, 3, 4, 5]])"
      ]
     },
     "execution_count": 84,
     "metadata": {},
     "output_type": "execute_result"
    }
   ],
   "source": [
    "a[:,:]"
   ]
  },
  {
   "cell_type": "code",
   "execution_count": 85,
   "id": "recorded-pressing",
   "metadata": {},
   "outputs": [
    {
     "data": {
      "text/plain": [
       "array([[1, 3, 7],\n",
       "       [4, 3, 5]])"
      ]
     },
     "execution_count": 85,
     "metadata": {},
     "output_type": "execute_result"
    }
   ],
   "source": [
    "a[:,::2] #step 2만큼"
   ]
  },
  {
   "cell_type": "markdown",
   "id": "realistic-associate",
   "metadata": {},
   "source": [
    "# arange\n",
    "## array의 범위를 지정, 값의 list를 생성하는 명령어"
   ]
  },
  {
   "cell_type": "code",
   "execution_count": 88,
   "id": "indoor-ireland",
   "metadata": {},
   "outputs": [
    {
     "data": {
      "text/plain": [
       "array([ 0,  1,  2,  3,  4,  5,  6,  7,  8,  9, 10, 11, 12, 13, 14, 15, 16,\n",
       "       17, 18, 19, 20, 21, 22, 23, 24, 25, 26, 27, 28, 29])"
      ]
     },
     "execution_count": 88,
     "metadata": {},
     "output_type": "execute_result"
    }
   ],
   "source": [
    "np.arange(30)"
   ]
  },
  {
   "cell_type": "code",
   "execution_count": 89,
   "id": "outstanding-radical",
   "metadata": {},
   "outputs": [
    {
     "data": {
      "text/plain": [
       "array([0. , 0.5, 1. , 1.5, 2. , 2.5, 3. , 3.5, 4. , 4.5])"
      ]
     },
     "execution_count": 89,
     "metadata": {},
     "output_type": "execute_result"
    }
   ],
   "source": [
    "np.arange(0,5,0.5) # 시작, 끝, step"
   ]
  },
  {
   "cell_type": "code",
   "execution_count": 90,
   "id": "seasonal-airfare",
   "metadata": {},
   "outputs": [
    {
     "data": {
      "text/plain": [
       "array([[[ 0,  1],\n",
       "        [ 2,  3],\n",
       "        [ 4,  5],\n",
       "        [ 6,  7],\n",
       "        [ 8,  9]],\n",
       "\n",
       "       [[10, 11],\n",
       "        [12, 13],\n",
       "        [14, 15],\n",
       "        [16, 17],\n",
       "        [18, 19]],\n",
       "\n",
       "       [[20, 21],\n",
       "        [22, 23],\n",
       "        [24, 25],\n",
       "        [26, 27],\n",
       "        [28, 29]]])"
      ]
     },
     "execution_count": 90,
     "metadata": {},
     "output_type": "execute_result"
    }
   ],
   "source": [
    "np.arange(30).reshape(3,5,2)"
   ]
  },
  {
   "cell_type": "markdown",
   "id": "restricted-lambda",
   "metadata": {},
   "source": [
    "# ones, zeros and empty\n",
    "## zeros -0으로 가득찬 ndarray"
   ]
  },
  {
   "cell_type": "code",
   "execution_count": 99,
   "id": "pregnant-combine",
   "metadata": {},
   "outputs": [
    {
     "data": {
      "text/plain": [
       "array([[0, 0],\n",
       "       [0, 0],\n",
       "       [0, 0],\n",
       "       [0, 0],\n",
       "       [0, 0],\n",
       "       [0, 0],\n",
       "       [0, 0],\n",
       "       [0, 0],\n",
       "       [0, 0],\n",
       "       [0, 0]], dtype=int8)"
      ]
     },
     "execution_count": 99,
     "metadata": {},
     "output_type": "execute_result"
    }
   ],
   "source": [
    "np.zeros(shape=(10,2), dtype = np.int8)"
   ]
  },
  {
   "cell_type": "code",
   "execution_count": 100,
   "id": "iraqi-education",
   "metadata": {},
   "outputs": [
    {
     "data": {
      "text/plain": [
       "array([[0., 0., 0.],\n",
       "       [0., 0., 0.]])"
      ]
     },
     "execution_count": 100,
     "metadata": {},
     "output_type": "execute_result"
    }
   ],
   "source": [
    "np.zeros((2,3))"
   ]
  },
  {
   "cell_type": "markdown",
   "id": "improved-manner",
   "metadata": {},
   "source": [
    "## ones - 1로 가득찬 ndarray"
   ]
  },
  {
   "cell_type": "code",
   "execution_count": 101,
   "id": "furnished-blink",
   "metadata": {},
   "outputs": [
    {
     "data": {
      "text/plain": [
       "array([1, 1, 1, 1, 1, 1, 1, 1, 1, 1], dtype=int8)"
      ]
     },
     "execution_count": 101,
     "metadata": {},
     "output_type": "execute_result"
    }
   ],
   "source": [
    "np.ones(shape=(10,), dtype = np.int8)"
   ]
  },
  {
   "cell_type": "code",
   "execution_count": 102,
   "id": "beneficial-physics",
   "metadata": {},
   "outputs": [
    {
     "data": {
      "text/plain": [
       "array([[1., 1., 1., 1., 1., 1., 1.],\n",
       "       [1., 1., 1., 1., 1., 1., 1.]])"
      ]
     },
     "execution_count": 102,
     "metadata": {},
     "output_type": "execute_result"
    }
   ],
   "source": [
    "np.ones((2,7))"
   ]
  },
  {
   "cell_type": "markdown",
   "id": "willing-magnet",
   "metadata": {},
   "source": [
    "## empty - shape만 주어지고 비어있는 ndarray (memory initialization 되지 않음)"
   ]
  },
  {
   "cell_type": "code",
   "execution_count": 103,
   "id": "fourth-reliance",
   "metadata": {},
   "outputs": [
    {
     "data": {
      "text/plain": [
       "array([  96,  -99,  -99, -103,   16,    1,    0,    0,    0,    0],\n",
       "      dtype=int8)"
      ]
     },
     "execution_count": 103,
     "metadata": {},
     "output_type": "execute_result"
    }
   ],
   "source": [
    "np.empty(shape = (10,), dtype = np.int8)"
   ]
  },
  {
   "cell_type": "code",
   "execution_count": 104,
   "id": "covered-produce",
   "metadata": {},
   "outputs": [
    {
     "data": {
      "text/plain": [
       "array([[2.37663529e-312, 2.14321575e-312, 2.37663529e-312,\n",
       "        2.56761491e-312, 2.44029516e-312],\n",
       "       [2.05833592e-312, 2.14321575e-312, 1.29441743e-312,\n",
       "        8.48798317e-313, 1.01855798e-312],\n",
       "       [8.70018275e-313, 6.79038653e-313, 2.46151512e-312,\n",
       "        2.37663529e-312, 6.79038654e-313],\n",
       "       [6.79038653e-313, 2.37663529e-312, 2.22809558e-312,\n",
       "        2.46151512e-312, 8.70018275e-313]])"
      ]
     },
     "execution_count": 104,
     "metadata": {},
     "output_type": "execute_result"
    }
   ],
   "source": [
    "np.empty((4,5))"
   ]
  },
  {
   "cell_type": "markdown",
   "id": "empty-calculation",
   "metadata": {},
   "source": [
    "# someting like\n",
    "## 기존 ndarray의 shape 크기 만큼 1, 0 또는 empty array 반환"
   ]
  },
  {
   "cell_type": "code",
   "execution_count": 106,
   "id": "original-fourth",
   "metadata": {},
   "outputs": [
    {
     "data": {
      "text/plain": [
       "array([[1, 1, 1, 1, 1, 1, 1, 1, 1, 1],\n",
       "       [1, 1, 1, 1, 1, 1, 1, 1, 1, 1],\n",
       "       [1, 1, 1, 1, 1, 1, 1, 1, 1, 1]])"
      ]
     },
     "execution_count": 106,
     "metadata": {},
     "output_type": "execute_result"
    }
   ],
   "source": [
    "test_matrix = np.arange(30).reshape(3,10)\n",
    "np.ones_like(test_matrix)"
   ]
  },
  {
   "cell_type": "markdown",
   "id": "material-friend",
   "metadata": {},
   "source": [
    "# identity\n",
    "## 단위 행렬 (i 행렬)을 생성함\n",
    "## n -> number of rows"
   ]
  },
  {
   "cell_type": "code",
   "execution_count": 115,
   "id": "choice-building",
   "metadata": {},
   "outputs": [
    {
     "data": {
      "text/plain": [
       "array([[1, 0, 0],\n",
       "       [0, 1, 0],\n",
       "       [0, 0, 1]], dtype=int8)"
      ]
     },
     "execution_count": 115,
     "metadata": {},
     "output_type": "execute_result"
    }
   ],
   "source": [
    "np.identity(n=3, dtype = np.int8)"
   ]
  },
  {
   "cell_type": "code",
   "execution_count": 116,
   "id": "automatic-swing",
   "metadata": {},
   "outputs": [
    {
     "data": {
      "text/plain": [
       "array([[1., 0., 0., 0.],\n",
       "       [0., 1., 0., 0.],\n",
       "       [0., 0., 1., 0.],\n",
       "       [0., 0., 0., 1.]])"
      ]
     },
     "execution_count": 116,
     "metadata": {},
     "output_type": "execute_result"
    }
   ],
   "source": [
    "np.identity(4)"
   ]
  },
  {
   "cell_type": "markdown",
   "id": "ranging-customer",
   "metadata": {},
   "source": [
    "# eye\n",
    "## 대각선이 1인 행렬\n",
    "## k값의 시작 index의 변경이 가능\n",
    "## k -> index start"
   ]
  },
  {
   "cell_type": "code",
   "execution_count": 119,
   "id": "medical-grill",
   "metadata": {},
   "outputs": [
    {
     "data": {
      "text/plain": [
       "array([[1, 0, 0, 0, 0],\n",
       "       [0, 1, 0, 0, 0],\n",
       "       [0, 0, 1, 0, 0]], dtype=int8)"
      ]
     },
     "execution_count": 119,
     "metadata": {},
     "output_type": "execute_result"
    }
   ],
   "source": [
    "np.eye(N=3, M=5, dtype = np.int8)"
   ]
  },
  {
   "cell_type": "code",
   "execution_count": 120,
   "id": "modified-property",
   "metadata": {},
   "outputs": [
    {
     "data": {
      "text/plain": [
       "array([[1., 0., 0., 0., 0., 0., 0.],\n",
       "       [0., 1., 0., 0., 0., 0., 0.],\n",
       "       [0., 0., 1., 0., 0., 0., 0.],\n",
       "       [0., 0., 0., 1., 0., 0., 0.],\n",
       "       [0., 0., 0., 0., 1., 0., 0.],\n",
       "       [0., 0., 0., 0., 0., 1., 0.],\n",
       "       [0., 0., 0., 0., 0., 0., 1.]])"
      ]
     },
     "execution_count": 120,
     "metadata": {},
     "output_type": "execute_result"
    }
   ],
   "source": [
    "np.eye(7)"
   ]
  },
  {
   "cell_type": "code",
   "execution_count": 121,
   "id": "compliant-ultimate",
   "metadata": {},
   "outputs": [
    {
     "data": {
      "text/plain": [
       "array([[0., 0., 1., 0., 0., 0.],\n",
       "       [0., 0., 0., 1., 0., 0.],\n",
       "       [0., 0., 0., 0., 1., 0.]])"
      ]
     },
     "execution_count": 121,
     "metadata": {},
     "output_type": "execute_result"
    }
   ],
   "source": [
    "np.eye(3,6,k=2)"
   ]
  },
  {
   "cell_type": "markdown",
   "id": "cloudy-fairy",
   "metadata": {},
   "source": [
    "# diag\n",
    "## 대각 행렬의 값 추출\n",
    "## k -> index start"
   ]
  },
  {
   "cell_type": "code",
   "execution_count": 124,
   "id": "adequate-merit",
   "metadata": {},
   "outputs": [
    {
     "data": {
      "text/plain": [
       "array([[0, 1, 2],\n",
       "       [3, 4, 5],\n",
       "       [6, 7, 8]])"
      ]
     },
     "execution_count": 124,
     "metadata": {},
     "output_type": "execute_result"
    }
   ],
   "source": [
    "matrix = np.arange(9).reshape(3,3)\n",
    "matrix"
   ]
  },
  {
   "cell_type": "code",
   "execution_count": 125,
   "id": "severe-saturday",
   "metadata": {},
   "outputs": [
    {
     "data": {
      "text/plain": [
       "array([0, 4, 8])"
      ]
     },
     "execution_count": 125,
     "metadata": {},
     "output_type": "execute_result"
    }
   ],
   "source": [
    "np.diag(matrix)"
   ]
  },
  {
   "cell_type": "code",
   "execution_count": 126,
   "id": "coastal-steam",
   "metadata": {},
   "outputs": [
    {
     "data": {
      "text/plain": [
       "array([2])"
      ]
     },
     "execution_count": 126,
     "metadata": {},
     "output_type": "execute_result"
    }
   ],
   "source": [
    "np.diag(matrix, k = 2)"
   ]
  },
  {
   "cell_type": "markdown",
   "id": "northern-jonathan",
   "metadata": {},
   "source": [
    "# random sampling\n",
    "## 데이터 분포에 따른 sampling 으로 array 생성"
   ]
  },
  {
   "cell_type": "code",
   "execution_count": 127,
   "id": "greenhouse-corporation",
   "metadata": {},
   "outputs": [
    {
     "data": {
      "text/plain": [
       "array([[0.11420829, 0.70218605, 0.06987966, 0.42235403, 0.9865    ],\n",
       "       [0.33068861, 0.93720235, 0.58363694, 0.92430582, 0.01927368]])"
      ]
     },
     "execution_count": 127,
     "metadata": {},
     "output_type": "execute_result"
    }
   ],
   "source": [
    "np.random.uniform(0,1,10).reshape(2,5) # 균등분포 - >  최저값, 최고값, 데이터값"
   ]
  },
  {
   "cell_type": "code",
   "execution_count": 128,
   "id": "duplicate-brick",
   "metadata": {},
   "outputs": [
    {
     "data": {
      "text/plain": [
       "array([[ 0.98447054, -1.02344855,  0.01454409,  2.77754633, -1.88415068],\n",
       "       [ 0.04686583,  0.5030364 , -0.35074582, -0.0299274 , -0.38383918]])"
      ]
     },
     "execution_count": 128,
     "metadata": {},
     "output_type": "execute_result"
    }
   ],
   "source": [
    "np.random.normal(0,1,10).reshape(2,5) # 정규분포"
   ]
  },
  {
   "cell_type": "markdown",
   "id": "compact-integral",
   "metadata": {},
   "source": [
    "# sum\n",
    "## ndarray의 element들 간의 합을 구함\n",
    "## list의 sum 동일"
   ]
  },
  {
   "cell_type": "code",
   "execution_count": 130,
   "id": "authentic-scenario",
   "metadata": {},
   "outputs": [
    {
     "data": {
      "text/plain": [
       "array([ 1,  2,  3,  4,  5,  6,  7,  8,  9, 10])"
      ]
     },
     "execution_count": 130,
     "metadata": {},
     "output_type": "execute_result"
    }
   ],
   "source": [
    "test_array = np.arange(1,11)\n",
    "test_array"
   ]
  },
  {
   "cell_type": "code",
   "execution_count": 132,
   "id": "subsequent-breed",
   "metadata": {},
   "outputs": [
    {
     "data": {
      "text/plain": [
       "55"
      ]
     },
     "execution_count": 132,
     "metadata": {},
     "output_type": "execute_result"
    }
   ],
   "source": [
    "np.sum(test_array)"
   ]
  },
  {
   "cell_type": "code",
   "execution_count": 133,
   "id": "through-sphere",
   "metadata": {},
   "outputs": [
    {
     "data": {
      "text/plain": [
       "55.0"
      ]
     },
     "execution_count": 133,
     "metadata": {},
     "output_type": "execute_result"
    }
   ],
   "source": [
    "test_array.sum(dtype = np.float)"
   ]
  },
  {
   "cell_type": "markdown",
   "id": "parliamentary-measure",
   "metadata": {},
   "source": [
    "# axis\n",
    "## 모든 operation function을 실행할 때, 기준이 되는 dimension 축"
   ]
  },
  {
   "cell_type": "code",
   "execution_count": 134,
   "id": "bizarre-split",
   "metadata": {},
   "outputs": [
    {
     "data": {
      "text/plain": [
       "array([[ 1,  2,  3,  4,  5,  6,  7],\n",
       "       [ 8,  9, 10, 11, 12, 13, 14]])"
      ]
     },
     "execution_count": 134,
     "metadata": {},
     "output_type": "execute_result"
    }
   ],
   "source": [
    "test_array = np.arange(1,15).reshape(2,7)\n",
    "test_array"
   ]
  },
  {
   "cell_type": "code",
   "execution_count": 139,
   "id": "configured-camera",
   "metadata": {},
   "outputs": [
    {
     "data": {
      "text/plain": [
       "(array([28, 77]), array([ 9, 11, 13, 15, 17, 19, 21]))"
      ]
     },
     "execution_count": 139,
     "metadata": {},
     "output_type": "execute_result"
    }
   ],
   "source": [
    "test_array.sum(axis = 1), test_array.sum(axis=0)"
   ]
  },
  {
   "cell_type": "code",
   "execution_count": null,
   "id": "assigned-primary",
   "metadata": {},
   "outputs": [],
   "source": []
  },
  {
   "cell_type": "code",
   "execution_count": 149,
   "id": "fifth-router",
   "metadata": {},
   "outputs": [
    {
     "data": {
      "text/plain": [
       "array([[[ 1,  2],\n",
       "        [ 3,  4],\n",
       "        [ 5,  6],\n",
       "        [ 7,  8],\n",
       "        [ 9, 10],\n",
       "        [11, 12],\n",
       "        [13, 14]],\n",
       "\n",
       "       [[ 1,  2],\n",
       "        [ 3,  4],\n",
       "        [ 5,  6],\n",
       "        [ 7,  8],\n",
       "        [ 9, 10],\n",
       "        [11, 12],\n",
       "        [13, 14]],\n",
       "\n",
       "       [[ 1,  2],\n",
       "        [ 3,  4],\n",
       "        [ 5,  6],\n",
       "        [ 7,  8],\n",
       "        [ 9, 10],\n",
       "        [11, 12],\n",
       "        [13, 14]]])"
      ]
     },
     "execution_count": 149,
     "metadata": {},
     "output_type": "execute_result"
    }
   ],
   "source": [
    "third_order_tensor = np.array([test_array, test_array, test_array])\n",
    "third_order_tensor"
   ]
  },
  {
   "cell_type": "code",
   "execution_count": 150,
   "id": "inside-island",
   "metadata": {},
   "outputs": [
    {
     "data": {
      "text/plain": [
       "array([[ 3,  6],\n",
       "       [ 9, 12],\n",
       "       [15, 18],\n",
       "       [21, 24],\n",
       "       [27, 30],\n",
       "       [33, 36],\n",
       "       [39, 42]])"
      ]
     },
     "execution_count": 150,
     "metadata": {},
     "output_type": "execute_result"
    }
   ],
   "source": [
    "third_order_tensor.sum(axis = 0)"
   ]
  },
  {
   "cell_type": "code",
   "execution_count": 151,
   "id": "radical-swimming",
   "metadata": {},
   "outputs": [
    {
     "data": {
      "text/plain": [
       "array([[49, 56],\n",
       "       [49, 56],\n",
       "       [49, 56]])"
      ]
     },
     "execution_count": 151,
     "metadata": {},
     "output_type": "execute_result"
    }
   ],
   "source": [
    "third_order_tensor.sum(axis = 1)"
   ]
  },
  {
   "cell_type": "code",
   "execution_count": 152,
   "id": "attempted-needle",
   "metadata": {},
   "outputs": [
    {
     "data": {
      "text/plain": [
       "array([[ 3,  7, 11, 15, 19, 23, 27],\n",
       "       [ 3,  7, 11, 15, 19, 23, 27],\n",
       "       [ 3,  7, 11, 15, 19, 23, 27]])"
      ]
     },
     "execution_count": 152,
     "metadata": {},
     "output_type": "execute_result"
    }
   ],
   "source": [
    "third_order_tensor.sum(axis = 2)"
   ]
  },
  {
   "cell_type": "markdown",
   "id": "shared-organic",
   "metadata": {},
   "source": [
    "# mean & std\n",
    "## ndarry의 element들 간의 평균 또는 표준 편차 반환"
   ]
  },
  {
   "cell_type": "code",
   "execution_count": 153,
   "id": "elegant-insider",
   "metadata": {},
   "outputs": [
    {
     "data": {
      "text/plain": [
       "array([[ 1,  2],\n",
       "       [ 3,  4],\n",
       "       [ 5,  6],\n",
       "       [ 7,  8],\n",
       "       [ 9, 10],\n",
       "       [11, 12],\n",
       "       [13, 14]])"
      ]
     },
     "execution_count": 153,
     "metadata": {},
     "output_type": "execute_result"
    }
   ],
   "source": [
    "test_array = np.arange(1,15).reshape(7,2)\n",
    "test_array"
   ]
  },
  {
   "cell_type": "code",
   "execution_count": 154,
   "id": "fitted-ethnic",
   "metadata": {},
   "outputs": [
    {
     "data": {
      "text/plain": [
       "(7.5, array([7., 8.]))"
      ]
     },
     "execution_count": 154,
     "metadata": {},
     "output_type": "execute_result"
    }
   ],
   "source": [
    "test_array.mean(), test_array.mean(axis = 0)"
   ]
  },
  {
   "cell_type": "code",
   "execution_count": 155,
   "id": "single-stream",
   "metadata": {},
   "outputs": [
    {
     "data": {
      "text/plain": [
       "(4.031128874149275, array([0.5, 0.5, 0.5, 0.5, 0.5, 0.5, 0.5]))"
      ]
     },
     "execution_count": 155,
     "metadata": {},
     "output_type": "execute_result"
    }
   ],
   "source": [
    "test_array.std(), test_array.std(axis = 1)"
   ]
  },
  {
   "cell_type": "markdown",
   "id": "german-chicago",
   "metadata": {},
   "source": [
    "# concatenate\n",
    "## numpy array를 합치는 함수"
   ]
  },
  {
   "cell_type": "code",
   "execution_count": 156,
   "id": "blocked-highland",
   "metadata": {},
   "outputs": [
    {
     "data": {
      "text/plain": [
       "array([[2, 3, 4],\n",
       "       [5, 6, 8]])"
      ]
     },
     "execution_count": 156,
     "metadata": {},
     "output_type": "execute_result"
    }
   ],
   "source": [
    "a = np.array([2,3,4])\n",
    "b = np.array([5,6,8])\n",
    "np.vstack((a,b)) # 수직으로 더해줌"
   ]
  },
  {
   "cell_type": "code",
   "execution_count": 158,
   "id": "injured-affiliation",
   "metadata": {},
   "outputs": [
    {
     "data": {
      "text/plain": [
       "array([[3, 8],\n",
       "       [4, 6],\n",
       "       [5, 2]])"
      ]
     },
     "execution_count": 158,
     "metadata": {},
     "output_type": "execute_result"
    }
   ],
   "source": [
    "a = np.array([[3],[4],[5]])\n",
    "b = np.array([[8],[6],[2]])\n",
    "np.hstack((a,b)) #수평으로 더해줌"
   ]
  },
  {
   "cell_type": "code",
   "execution_count": 161,
   "id": "liquid-sunrise",
   "metadata": {},
   "outputs": [
    {
     "data": {
      "text/plain": [
       "array([[2, 3, 4],\n",
       "       [5, 6, 8]])"
      ]
     },
     "execution_count": 161,
     "metadata": {},
     "output_type": "execute_result"
    }
   ],
   "source": [
    "a = np.array([[2,3,4]])\n",
    "b = np.array([[5,6,8]])\n",
    "np.concatenate((a,b), axis = 0)"
   ]
  },
  {
   "cell_type": "code",
   "execution_count": 162,
   "id": "inappropriate-raising",
   "metadata": {},
   "outputs": [
    {
     "data": {
      "text/plain": [
       "array([[3, 8],\n",
       "       [4, 6],\n",
       "       [5, 2]])"
      ]
     },
     "execution_count": 162,
     "metadata": {},
     "output_type": "execute_result"
    }
   ],
   "source": [
    "a = np.array([[3],[4],[5]])\n",
    "b = np.array([[8],[6],[2]])\n",
    "np.concatenate((a,b), axis = 1)"
   ]
  },
  {
   "cell_type": "code",
   "execution_count": 164,
   "id": "deadly-milwaukee",
   "metadata": {},
   "outputs": [
    {
     "data": {
      "text/plain": [
       "array([[1, 2, 6],\n",
       "       [3, 4, 8]])"
      ]
     },
     "execution_count": 164,
     "metadata": {},
     "output_type": "execute_result"
    }
   ],
   "source": [
    "a = np.array([[1,2],[3,4]])\n",
    "b = np.array([[6,8]])\n",
    "np.concatenate((a,b.T), axis = 1)"
   ]
  },
  {
   "cell_type": "markdown",
   "id": "romance-deployment",
   "metadata": {},
   "source": [
    "# operation b/t arrays\n",
    "## numpy는 array 간의 기본적인 사칙 연산 지원"
   ]
  },
  {
   "cell_type": "code",
   "execution_count": 166,
   "id": "arctic-penetration",
   "metadata": {},
   "outputs": [],
   "source": [
    "test_a = np.array([[1,5,6],[7,8,9]],float)"
   ]
  },
  {
   "cell_type": "code",
   "execution_count": 168,
   "id": "acknowledged-tonight",
   "metadata": {},
   "outputs": [
    {
     "data": {
      "text/plain": [
       "array([[ 2., 10., 12.],\n",
       "       [14., 16., 18.]])"
      ]
     },
     "execution_count": 168,
     "metadata": {},
     "output_type": "execute_result"
    }
   ],
   "source": [
    "test_a + test_a"
   ]
  },
  {
   "cell_type": "code",
   "execution_count": 170,
   "id": "banned-phoenix",
   "metadata": {},
   "outputs": [
    {
     "data": {
      "text/plain": [
       "array([[0., 0., 0.],\n",
       "       [0., 0., 0.]])"
      ]
     },
     "execution_count": 170,
     "metadata": {},
     "output_type": "execute_result"
    }
   ],
   "source": [
    "test_a - test_a"
   ]
  },
  {
   "cell_type": "code",
   "execution_count": 171,
   "id": "signed-dining",
   "metadata": {},
   "outputs": [
    {
     "data": {
      "text/plain": [
       "array([[ 1., 25., 36.],\n",
       "       [49., 64., 81.]])"
      ]
     },
     "execution_count": 171,
     "metadata": {},
     "output_type": "execute_result"
    }
   ],
   "source": [
    "test_a * test_a # matrix내 element들 간 같은 위치에 있는 값들끼리 연산"
   ]
  },
  {
   "cell_type": "markdown",
   "id": "induced-thesis",
   "metadata": {},
   "source": [
    "# element-wise operation\n",
    "## array 간 shape이 같을 때 일어나는 연산"
   ]
  },
  {
   "cell_type": "code",
   "execution_count": 174,
   "id": "violent-jewelry",
   "metadata": {},
   "outputs": [
    {
     "data": {
      "text/plain": [
       "array([[  1,   4,   9,  16],\n",
       "       [ 25,  36,  49,  64],\n",
       "       [ 81, 100, 121, 144]])"
      ]
     },
     "execution_count": 174,
     "metadata": {},
     "output_type": "execute_result"
    }
   ],
   "source": [
    "matrix_a = np.arange(1,13).reshape(3,4)\n",
    "matrix_a * matrix_a"
   ]
  },
  {
   "cell_type": "markdown",
   "id": "valued-processor",
   "metadata": {},
   "source": [
    "# Dot product\n",
    "## matrix의 기본 연산\n",
    "## dot 함수 사용"
   ]
  },
  {
   "cell_type": "code",
   "execution_count": 181,
   "id": "reliable-default",
   "metadata": {},
   "outputs": [],
   "source": [
    "test_a = np.arange(1,16).reshape(3,5)\n",
    "test_b = np.arange(1,16).reshape(3,5)"
   ]
  },
  {
   "cell_type": "code",
   "execution_count": 182,
   "id": "documented-carbon",
   "metadata": {},
   "outputs": [
    {
     "name": "stdout",
     "output_type": "stream",
     "text": [
      "[[ 1  2  3  4  5]\n",
      " [ 6  7  8  9 10]\n",
      " [11 12 13 14 15]]\n",
      "[[ 1  2  3  4  5]\n",
      " [ 6  7  8  9 10]\n",
      " [11 12 13 14 15]]\n"
     ]
    }
   ],
   "source": [
    "print(test_a)\n",
    "print(test_b)"
   ]
  },
  {
   "cell_type": "code",
   "execution_count": 183,
   "id": "greek-vienna",
   "metadata": {},
   "outputs": [
    {
     "data": {
      "text/plain": [
       "array([[ 55, 130, 205],\n",
       "       [130, 330, 530],\n",
       "       [205, 530, 855]])"
      ]
     },
     "execution_count": 183,
     "metadata": {},
     "output_type": "execute_result"
    }
   ],
   "source": [
    "test_a.dot(test_b.T)"
   ]
  },
  {
   "cell_type": "markdown",
   "id": "earlier-height",
   "metadata": {},
   "source": [
    "# Transpose\n",
    "## transpose 또는 T attribute 사용"
   ]
  },
  {
   "cell_type": "code",
   "execution_count": 184,
   "id": "better-truck",
   "metadata": {},
   "outputs": [
    {
     "data": {
      "text/plain": [
       "array([[1, 2, 3, 4],\n",
       "       [5, 6, 7, 8]])"
      ]
     },
     "execution_count": 184,
     "metadata": {},
     "output_type": "execute_result"
    }
   ],
   "source": [
    "test_a = np.arange(1,9).reshape(2,4)\n",
    "test_a"
   ]
  },
  {
   "cell_type": "code",
   "execution_count": 187,
   "id": "academic-clinic",
   "metadata": {},
   "outputs": [
    {
     "data": {
      "text/plain": [
       "array([[1, 5],\n",
       "       [2, 6],\n",
       "       [3, 7],\n",
       "       [4, 8]])"
      ]
     },
     "execution_count": 187,
     "metadata": {},
     "output_type": "execute_result"
    }
   ],
   "source": [
    "test_a.T"
   ]
  },
  {
   "cell_type": "code",
   "execution_count": 188,
   "id": "higher-reaction",
   "metadata": {},
   "outputs": [
    {
     "data": {
      "text/plain": [
       "array([[1, 5],\n",
       "       [2, 6],\n",
       "       [3, 7],\n",
       "       [4, 8]])"
      ]
     },
     "execution_count": 188,
     "metadata": {},
     "output_type": "execute_result"
    }
   ],
   "source": [
    "test_a.transpose()"
   ]
  },
  {
   "cell_type": "code",
   "execution_count": 186,
   "id": "reserved-elimination",
   "metadata": {},
   "outputs": [
    {
     "data": {
      "text/plain": [
       "array([[ 30,  70],\n",
       "       [ 70, 174]])"
      ]
     },
     "execution_count": 186,
     "metadata": {},
     "output_type": "execute_result"
    }
   ],
   "source": [
    "test_a.dot(test_a.T)"
   ]
  },
  {
   "cell_type": "markdown",
   "id": "short-audit",
   "metadata": {},
   "source": [
    "# broadcasting\n",
    "## shape이 다른 배열 간 연산을 자동으로! 지원하는 기능"
   ]
  },
  {
   "cell_type": "code",
   "execution_count": 194,
   "id": "quantitative-survivor",
   "metadata": {},
   "outputs": [],
   "source": [
    "test_matrix = np.arange(1,11).reshape(2,5)\n",
    "test_matrix\n",
    "scalar = 3"
   ]
  },
  {
   "cell_type": "code",
   "execution_count": 195,
   "id": "medieval-baker",
   "metadata": {},
   "outputs": [
    {
     "data": {
      "text/plain": [
       "array([[ 4,  5,  6,  7,  8],\n",
       "       [ 9, 10, 11, 12, 13]])"
      ]
     },
     "execution_count": 195,
     "metadata": {},
     "output_type": "execute_result"
    }
   ],
   "source": [
    "test_matrix + scalar # scalar 값 각각 더해준다"
   ]
  },
  {
   "cell_type": "code",
   "execution_count": 196,
   "id": "czech-chance",
   "metadata": {},
   "outputs": [
    {
     "data": {
      "text/plain": [
       "array([[-2, -1,  0,  1,  2],\n",
       "       [ 3,  4,  5,  6,  7]])"
      ]
     },
     "execution_count": 196,
     "metadata": {},
     "output_type": "execute_result"
    }
   ],
   "source": [
    "test_matrix - scalar"
   ]
  },
  {
   "cell_type": "code",
   "execution_count": 197,
   "id": "insured-spare",
   "metadata": {},
   "outputs": [
    {
     "data": {
      "text/plain": [
       "array([[ 3,  6,  9, 12, 15],\n",
       "       [18, 21, 24, 27, 30]])"
      ]
     },
     "execution_count": 197,
     "metadata": {},
     "output_type": "execute_result"
    }
   ],
   "source": [
    "test_matrix * scalar"
   ]
  },
  {
   "cell_type": "code",
   "execution_count": 198,
   "id": "blessed-young",
   "metadata": {},
   "outputs": [
    {
     "data": {
      "text/plain": [
       "array([[0.33333333, 0.66666667, 1.        , 1.33333333, 1.66666667],\n",
       "       [2.        , 2.33333333, 2.66666667, 3.        , 3.33333333]])"
      ]
     },
     "execution_count": 198,
     "metadata": {},
     "output_type": "execute_result"
    }
   ],
   "source": [
    "test_matrix / scalar"
   ]
  },
  {
   "cell_type": "code",
   "execution_count": 199,
   "id": "valued-laundry",
   "metadata": {},
   "outputs": [
    {
     "data": {
      "text/plain": [
       "array([[0, 0, 1, 1, 1],\n",
       "       [2, 2, 2, 3, 3]], dtype=int32)"
      ]
     },
     "execution_count": 199,
     "metadata": {},
     "output_type": "execute_result"
    }
   ],
   "source": [
    "test_matrix // scalar"
   ]
  },
  {
   "cell_type": "code",
   "execution_count": 200,
   "id": "affected-thickness",
   "metadata": {},
   "outputs": [
    {
     "data": {
      "text/plain": [
       "array([[   1,    8,   27,   64,  125],\n",
       "       [ 216,  343,  512,  729, 1000]], dtype=int32)"
      ]
     },
     "execution_count": 200,
     "metadata": {},
     "output_type": "execute_result"
    }
   ],
   "source": [
    "test_matrix ** scalar"
   ]
  },
  {
   "cell_type": "code",
   "execution_count": 206,
   "id": "editorial-range",
   "metadata": {},
   "outputs": [
    {
     "data": {
      "text/plain": [
       "array([[ 6,  7,  8,  9, 10, 11],\n",
       "       [17, 18, 19, 20, 21, 22],\n",
       "       [28, 29, 30, 31, 32, 33],\n",
       "       [39, 40, 41, 42, 43, 44]])"
      ]
     },
     "execution_count": 206,
     "metadata": {},
     "output_type": "execute_result"
    }
   ],
   "source": [
    "test_matrix = np.arange(1,25).reshape(4,6)\n",
    "test_vector = np.arange(5,25,5).reshape(4,-1)\n",
    "test_matrix + test_vector"
   ]
  },
  {
   "cell_type": "markdown",
   "id": "guilty-celtic",
   "metadata": {},
   "source": [
    "# numpy performance #!\n",
    "## timeit : jupyter 환경에서 코드의 퍼포먼스를 체크하는 함수"
   ]
  },
  {
   "cell_type": "code",
   "execution_count": 208,
   "id": "improving-judgment",
   "metadata": {},
   "outputs": [],
   "source": [
    "def sclar_vector_product(scalar, vector) :\n",
    "    result = []\n",
    "    for value in vector :\n",
    "        result.append(scalar * value)\n",
    "    return result\n",
    "\n",
    "iternation_max = 100000000\n",
    "\n",
    "vector = list(range(iternation_max))\n",
    "scalar = 2"
   ]
  },
  {
   "cell_type": "code",
   "execution_count": null,
   "id": "tired-scholarship",
   "metadata": {},
   "outputs": [],
   "source": [
    "%timeit sclar_vector_product(scalar, vector) # for loop을 이용한 성능"
   ]
  },
  {
   "cell_type": "code",
   "execution_count": null,
   "id": "vanilla-culture",
   "metadata": {},
   "outputs": [],
   "source": [
    "%timeit [scalar * value for value in range(iternation max)] #list comprehension을 이용한 성능"
   ]
  },
  {
   "cell_type": "code",
   "execution_count": null,
   "id": "recorded-cyprus",
   "metadata": {},
   "outputs": [],
   "source": [
    "%timeit np.arange(iternation_max) * scalar # numpy 이용한 성능"
   ]
  },
  {
   "cell_type": "markdown",
   "id": "found-topic",
   "metadata": {},
   "source": [
    "# All & Any\n",
    "## array 의 데이터 전부 (and) 또는 일부(or) 가 조건에 만족 여부 반환\n",
    "## any -> 하나라도 조건에 만족한다면 true\n",
    "## all -> 모두가 조건에 만족한다면 true"
   ]
  },
  {
   "cell_type": "code",
   "execution_count": 212,
   "id": "proper-queensland",
   "metadata": {},
   "outputs": [
    {
     "data": {
      "text/plain": [
       "array([0, 1, 2, 3, 4, 5, 6, 7, 8, 9])"
      ]
     },
     "execution_count": 212,
     "metadata": {},
     "output_type": "execute_result"
    }
   ],
   "source": [
    "a = np.arange(10)\n",
    "a"
   ]
  },
  {
   "cell_type": "code",
   "execution_count": 213,
   "id": "european-drove",
   "metadata": {},
   "outputs": [
    {
     "data": {
      "text/plain": [
       "(True, False)"
      ]
     },
     "execution_count": 213,
     "metadata": {},
     "output_type": "execute_result"
    }
   ],
   "source": [
    "np.any(a>5), np.all(a<0)"
   ]
  },
  {
   "cell_type": "code",
   "execution_count": 214,
   "id": "worse-jewel",
   "metadata": {},
   "outputs": [
    {
     "data": {
      "text/plain": [
       "(True, True)"
      ]
     },
     "execution_count": 214,
     "metadata": {},
     "output_type": "execute_result"
    }
   ],
   "source": [
    "np.any(a>5), np.all(a >= 0)"
   ]
  },
  {
   "cell_type": "markdown",
   "id": "eleven-williams",
   "metadata": {},
   "source": [
    "# comparison operation #1\n",
    "## numpy는 배열의 크기가 동일 할 때\n",
    "## element간 비교의 결과를 boolean type으로 반환하여 돌려줌"
   ]
  },
  {
   "cell_type": "code",
   "execution_count": 216,
   "id": "surface-mexican",
   "metadata": {},
   "outputs": [
    {
     "data": {
      "text/plain": [
       "array([False, False, False])"
      ]
     },
     "execution_count": 216,
     "metadata": {},
     "output_type": "execute_result"
    }
   ],
   "source": [
    "test_a = np.array([2,5,6],float)\n",
    "test_b = np.array([5,7,8],float)\n",
    "test_a > test_b"
   ]
  },
  {
   "cell_type": "code",
   "execution_count": 217,
   "id": "capital-kazakhstan",
   "metadata": {},
   "outputs": [
    {
     "data": {
      "text/plain": [
       "array([False, False, False])"
      ]
     },
     "execution_count": 217,
     "metadata": {},
     "output_type": "execute_result"
    }
   ],
   "source": [
    "test_a == test_b"
   ]
  },
  {
   "cell_type": "code",
   "execution_count": 218,
   "id": "changed-vampire",
   "metadata": {},
   "outputs": [
    {
     "data": {
      "text/plain": [
       "False"
      ]
     },
     "execution_count": 218,
     "metadata": {},
     "output_type": "execute_result"
    }
   ],
   "source": [
    "(test_a > test_b).any()"
   ]
  },
  {
   "cell_type": "markdown",
   "id": "impressed-blogger",
   "metadata": {},
   "source": [
    "# comparison opertaion #2"
   ]
  },
  {
   "cell_type": "code",
   "execution_count": 243,
   "id": "funny-georgia",
   "metadata": {},
   "outputs": [
    {
     "data": {
      "text/plain": [
       "array([ True, False, False])"
      ]
     },
     "execution_count": 243,
     "metadata": {},
     "output_type": "execute_result"
    }
   ],
   "source": [
    "a = np.array([2,6,7],float)\n",
    "np.logical_and(a > 0, a < 3) # and 조건의 condition"
   ]
  },
  {
   "cell_type": "code",
   "execution_count": 244,
   "id": "hungarian-darwin",
   "metadata": {},
   "outputs": [
    {
     "data": {
      "text/plain": [
       "array([False,  True, False])"
      ]
     },
     "execution_count": 244,
     "metadata": {},
     "output_type": "execute_result"
    }
   ],
   "source": [
    "b = np.array([True,False,True], bool)\n",
    "np.logical_not(b) # not 조건의 condition"
   ]
  },
  {
   "cell_type": "code",
   "execution_count": 245,
   "id": "decreased-escape",
   "metadata": {},
   "outputs": [
    {
     "data": {
      "text/plain": [
       "array([ True,  True,  True])"
      ]
     },
     "execution_count": 245,
     "metadata": {},
     "output_type": "execute_result"
    }
   ],
   "source": [
    "c = np.array([False, True, False], bool)\n",
    "np.logical_or(b,c) # or 조건의 condition"
   ]
  },
  {
   "cell_type": "code",
   "execution_count": 246,
   "id": "handled-italic",
   "metadata": {},
   "outputs": [
    {
     "data": {
      "text/plain": [
       "array([3, 3, 3])"
      ]
     },
     "execution_count": 246,
     "metadata": {},
     "output_type": "execute_result"
    }
   ],
   "source": [
    "np.where( a > 0, 3, 2)"
   ]
  },
  {
   "cell_type": "markdown",
   "id": "mature-scientist",
   "metadata": {},
   "source": [
    "# np.where\n",
    "## where (condition, TRUE, FALSE)"
   ]
  },
  {
   "cell_type": "code",
   "execution_count": 251,
   "id": "employed-seven",
   "metadata": {},
   "outputs": [
    {
     "data": {
      "text/plain": [
       "array([2, 2, 2, 2, 2, 2, 3, 3, 3, 3])"
      ]
     },
     "execution_count": 251,
     "metadata": {},
     "output_type": "execute_result"
    }
   ],
   "source": [
    "a = np.arange(10)\n",
    "np.where(a>5,3,2) # index 값 반환"
   ]
  },
  {
   "cell_type": "code",
   "execution_count": 252,
   "id": "precious-sauce",
   "metadata": {},
   "outputs": [
    {
     "data": {
      "text/plain": [
       "array([False, False, False, False, False, False, False, False, False,\n",
       "       False])"
      ]
     },
     "execution_count": 252,
     "metadata": {},
     "output_type": "execute_result"
    }
   ],
   "source": [
    "a > 10"
   ]
  },
  {
   "cell_type": "code",
   "execution_count": 255,
   "id": "stock-easter",
   "metadata": {},
   "outputs": [
    {
     "data": {
      "text/plain": [
       "array([False,  True, False])"
      ]
     },
     "execution_count": 255,
     "metadata": {},
     "output_type": "execute_result"
    }
   ],
   "source": [
    "a = np.array([99, np.NaN, np.Inf], float)\n",
    "np.isnan(a) # not a number "
   ]
  },
  {
   "cell_type": "code",
   "execution_count": 256,
   "id": "lovely-survival",
   "metadata": {},
   "outputs": [
    {
     "data": {
      "text/plain": [
       "array([ True, False, False])"
      ]
     },
     "execution_count": 256,
     "metadata": {},
     "output_type": "execute_result"
    }
   ],
   "source": [
    "np.isfinite(a) # is finite number"
   ]
  },
  {
   "cell_type": "markdown",
   "id": "grand-guidance",
   "metadata": {},
   "source": [
    "# argmax & argmin\n",
    "## array 내 최대값 또는 최소값의 index 반환\n",
    "## axis 기준으로 반환 가능"
   ]
  },
  {
   "cell_type": "code",
   "execution_count": 265,
   "id": "cross-opportunity",
   "metadata": {},
   "outputs": [
    {
     "data": {
      "text/plain": [
       "array([[1, 2, 3, 4, 7, 8, 9],\n",
       "       [3, 4, 5, 6, 1, 2, 4]])"
      ]
     },
     "execution_count": 265,
     "metadata": {},
     "output_type": "execute_result"
    }
   ],
   "source": [
    "a = np.array([[1,2,3,4,7,8,9],[3,4,5,6,1,2,4]])\n",
    "a"
   ]
  },
  {
   "cell_type": "code",
   "execution_count": 266,
   "id": "consecutive-nursing",
   "metadata": {},
   "outputs": [
    {
     "data": {
      "text/plain": [
       "(6, 0)"
      ]
     },
     "execution_count": 266,
     "metadata": {},
     "output_type": "execute_result"
    }
   ],
   "source": [
    "np.argmax(a), np.argmin(a)"
   ]
  },
  {
   "cell_type": "code",
   "execution_count": 267,
   "id": "appreciated-baseline",
   "metadata": {},
   "outputs": [
    {
     "data": {
      "text/plain": [
       "(array([1, 1, 1, 1, 0, 0, 0], dtype=int64), array([0, 4], dtype=int64))"
      ]
     },
     "execution_count": 267,
     "metadata": {},
     "output_type": "execute_result"
    }
   ],
   "source": [
    "np.argmax(a, axis = 0), np.argmin(a, axis = 1)"
   ]
  },
  {
   "cell_type": "markdown",
   "id": "administrative-garbage",
   "metadata": {},
   "source": [
    "# boolean index\n",
    "## numpy는 배열은 특정 조건에 따른 값을 배열 형태로 추출 할 수 있음\n",
    "## comparison operation 함수들도 모두 사용가능"
   ]
  },
  {
   "cell_type": "code",
   "execution_count": 269,
   "id": "integrated-promotion",
   "metadata": {},
   "outputs": [
    {
     "data": {
      "text/plain": [
       "array([False,  True,  True,  True,  True, False])"
      ]
     },
     "execution_count": 269,
     "metadata": {},
     "output_type": "execute_result"
    }
   ],
   "source": [
    "test_array = np.array([2,4,6,7,8,0],float)\n",
    "test_array > 3"
   ]
  },
  {
   "cell_type": "code",
   "execution_count": 270,
   "id": "banned-filter",
   "metadata": {},
   "outputs": [
    {
     "data": {
      "text/plain": [
       "array([4., 6., 7., 8.])"
      ]
     },
     "execution_count": 270,
     "metadata": {},
     "output_type": "execute_result"
    }
   ],
   "source": [
    "test_array[test_array > 3] # 조건이 true인 index의 element만 추출"
   ]
  },
  {
   "cell_type": "code",
   "execution_count": 273,
   "id": "nominated-shield",
   "metadata": {},
   "outputs": [
    {
     "data": {
      "text/plain": [
       "array([2., 0.])"
      ]
     },
     "execution_count": 273,
     "metadata": {},
     "output_type": "execute_result"
    }
   ],
   "source": [
    "condition = test_array < 3 \n",
    "test_array[condition]"
   ]
  },
  {
   "cell_type": "code",
   "execution_count": 275,
   "id": "through-seating",
   "metadata": {},
   "outputs": [
    {
     "data": {
      "text/plain": [
       "array([[ 1,  2,  3],\n",
       "       [ 4,  5,  6],\n",
       "       [ 7,  8,  9],\n",
       "       [10, 11, 12],\n",
       "       [13, 14, 15]])"
      ]
     },
     "execution_count": 275,
     "metadata": {},
     "output_type": "execute_result"
    }
   ],
   "source": [
    "a = np.arange(1,16).reshape(5,-1)\n",
    "a"
   ]
  },
  {
   "cell_type": "code",
   "execution_count": 277,
   "id": "executive-snake",
   "metadata": {},
   "outputs": [
    {
     "data": {
      "text/plain": [
       "array([[1, 1, 1],\n",
       "       [1, 1, 1],\n",
       "       [1, 1, 0],\n",
       "       [0, 0, 0],\n",
       "       [0, 0, 0]])"
      ]
     },
     "execution_count": 277,
     "metadata": {},
     "output_type": "execute_result"
    }
   ],
   "source": [
    "b = a < 9\n",
    "b.astype(np.int)"
   ]
  },
  {
   "cell_type": "markdown",
   "id": "proprietary-scroll",
   "metadata": {},
   "source": [
    "# fancy index\n",
    "## numpy는 array 를 index value로 사용해서 값을 추출하는 방법\n",
    "## matrix 형태의 데이터도 가능"
   ]
  },
  {
   "cell_type": "code",
   "execution_count": 282,
   "id": "advisory-syndicate",
   "metadata": {},
   "outputs": [
    {
     "data": {
      "text/plain": [
       "array([2., 3., 5., 6., 6., 5.])"
      ]
     },
     "execution_count": 282,
     "metadata": {},
     "output_type": "execute_result"
    }
   ],
   "source": [
    "a = np.array([2,3,5,6], float)\n",
    "b = np.array([0,1,2,3,3,2], int) # 반드시 integar로 선언\n",
    "a[b] #bracket index, b 배열의 값을 index로 하여 a 값들을 추출"
   ]
  },
  {
   "cell_type": "code",
   "execution_count": 283,
   "id": "artificial-spare",
   "metadata": {},
   "outputs": [
    {
     "data": {
      "text/plain": [
       "array([2., 3., 5., 6., 6., 5.])"
      ]
     },
     "execution_count": 283,
     "metadata": {},
     "output_type": "execute_result"
    }
   ],
   "source": [
    "a.take(b) #take 함수 : bracket index 와 같은 효과"
   ]
  },
  {
   "cell_type": "code",
   "execution_count": 291,
   "id": "chicken-milan",
   "metadata": {},
   "outputs": [
    {
     "data": {
      "text/plain": [
       "array([2., 9., 3., 8., 8., 8.])"
      ]
     },
     "execution_count": 291,
     "metadata": {},
     "output_type": "execute_result"
    }
   ],
   "source": [
    "a = np.array([[2,6,7,3],[1,8,9,3]], float)\n",
    "b = np.array([0,1,0,1,1,1], int)\n",
    "c = np.array([0,2,3,1,1,1], int)\n",
    "a[b,c] # b를 row index, c를 column index로 변환하여 표시"
   ]
  },
  {
   "cell_type": "markdown",
   "id": "unlikely-alias",
   "metadata": {},
   "source": [
    " # loadtxt & savetxt\n",
    " ## text type의 데이터를 읽고, 저장하는 기능"
   ]
  },
  {
   "cell_type": "code",
   "execution_count": null,
   "id": "gorgeous-married",
   "metadata": {},
   "outputs": [],
   "source": [
    "a = np.loadtext(\"./populations.txt\") #파일 호출\n",
    "a[:10]"
   ]
  },
  {
   "cell_type": "code",
   "execution_count": null,
   "id": "speaking-fifth",
   "metadata": {},
   "outputs": [],
   "source": [
    "a_int = a.astype(int) # int type 변환\n",
    "a_int[:3]"
   ]
  },
  {
   "cell_type": "code",
   "execution_count": null,
   "id": "healthy-sweden",
   "metadata": {},
   "outputs": [],
   "source": [
    "np.savetxt(\"int_data.csv\", a_int, delimiter = \",\") #int_data.csv로 저장"
   ]
  },
  {
   "cell_type": "markdown",
   "id": "australian-blood",
   "metadata": {},
   "source": [
    "# numpy object - npy\n",
    "## numpy object (pickle) 형태로 데이터를 저장하고 불러옴\n",
    "## binary 파일 형태로 저장함"
   ]
  },
  {
   "cell_type": "code",
   "execution_count": null,
   "id": "determined-patrol",
   "metadata": {},
   "outputs": [],
   "source": [
    "np.save(\"npy_test\", arr = a_int)"
   ]
  },
  {
   "cell_type": "code",
   "execution_count": null,
   "id": "complex-finding",
   "metadata": {},
   "outputs": [],
   "source": [
    "npy_array = np.load(file = \"npy_test.npy\")"
   ]
  },
  {
   "cell_type": "code",
   "execution_count": null,
   "id": "flying-portfolio",
   "metadata": {},
   "outputs": [],
   "source": [
    "npy_array"
   ]
  }
 ],
 "metadata": {
  "kernelspec": {
   "display_name": "Python 3",
   "language": "python",
   "name": "python3"
  },
  "language_info": {
   "codemirror_mode": {
    "name": "ipython",
    "version": 3
   },
   "file_extension": ".py",
   "mimetype": "text/x-python",
   "name": "python",
   "nbconvert_exporter": "python",
   "pygments_lexer": "ipython3",
   "version": "3.9.2"
  }
 },
 "nbformat": 4,
 "nbformat_minor": 5
}
