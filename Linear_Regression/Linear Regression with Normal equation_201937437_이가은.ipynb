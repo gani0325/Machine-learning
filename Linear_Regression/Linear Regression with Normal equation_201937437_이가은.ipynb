{
 "cells": [
  {
   "cell_type": "markdown",
   "id": "adopted-identity",
   "metadata": {},
   "source": [
    "# Lab - Linear Regression with Normal equation"
   ]
  },
  {
   "cell_type": "code",
   "execution_count": 118,
   "id": "martial-baptist",
   "metadata": {},
   "outputs": [],
   "source": [
    "import numpy as np\n",
    "import pandas as pd"
   ]
  },
  {
   "cell_type": "code",
   "execution_count": 119,
   "id": "focused-facility",
   "metadata": {},
   "outputs": [],
   "source": [
    "class LinearRegression(object):\n",
    "    def __init__(self, fit_intercept=True, copy_X=True):\n",
    "        self.fit_intercept = fit_intercept\n",
    "        self.copy_X = copy_X\n",
    "        self._coef = None\n",
    "        self._intercept = None\n",
    "        self._new_X = None\n",
    "    def fit(self, X, y):\n",
    "        pass\n",
    "    def predict(self, X):\n",
    "        pass"
   ]
  },
  {
   "cell_type": "code",
   "execution_count": 209,
   "id": "official-content",
   "metadata": {},
   "outputs": [
    {
     "data": {
      "text/html": [
       "<div>\n",
       "<style scoped>\n",
       "    .dataframe tbody tr th:only-of-type {\n",
       "        vertical-align: middle;\n",
       "    }\n",
       "\n",
       "    .dataframe tbody tr th {\n",
       "        vertical-align: top;\n",
       "    }\n",
       "\n",
       "    .dataframe thead th {\n",
       "        text-align: right;\n",
       "    }\n",
       "</style>\n",
       "<table border=\"1\" class=\"dataframe\">\n",
       "  <thead>\n",
       "    <tr style=\"text-align: right;\">\n",
       "      <th></th>\n",
       "      <th>x</th>\n",
       "      <th>y</th>\n",
       "    </tr>\n",
       "  </thead>\n",
       "  <tbody>\n",
       "    <tr>\n",
       "      <th>0</th>\n",
       "      <td>24</td>\n",
       "      <td>21.549452</td>\n",
       "    </tr>\n",
       "    <tr>\n",
       "      <th>1</th>\n",
       "      <td>50</td>\n",
       "      <td>47.464463</td>\n",
       "    </tr>\n",
       "    <tr>\n",
       "      <th>2</th>\n",
       "      <td>15</td>\n",
       "      <td>17.218656</td>\n",
       "    </tr>\n",
       "    <tr>\n",
       "      <th>3</th>\n",
       "      <td>38</td>\n",
       "      <td>36.586398</td>\n",
       "    </tr>\n",
       "    <tr>\n",
       "      <th>4</th>\n",
       "      <td>87</td>\n",
       "      <td>87.288984</td>\n",
       "    </tr>\n",
       "  </tbody>\n",
       "</table>\n",
       "</div>"
      ],
      "text/plain": [
       "    x          y\n",
       "0  24  21.549452\n",
       "1  50  47.464463\n",
       "2  15  17.218656\n",
       "3  38  36.586398\n",
       "4  87  87.288984"
      ]
     },
     "execution_count": 209,
     "metadata": {},
     "output_type": "execute_result"
    }
   ],
   "source": [
    "df = pd.read_csv(\"./train.csv\")\n",
    "df.head()"
   ]
  },
  {
   "cell_type": "code",
   "execution_count": 210,
   "id": "oriented-motel",
   "metadata": {},
   "outputs": [],
   "source": [
    "X = df[\"x\"].values.reshape(-1,1)\n",
    "y = df[\"y\"].values"
   ]
  },
  {
   "cell_type": "code",
   "execution_count": 211,
   "id": "earlier-facing",
   "metadata": {},
   "outputs": [
    {
     "name": "stdout",
     "output_type": "stream",
     "text": [
      "Requirement already satisfied: sklearn in c:\\users\\82106\\anaconda3\\envs\\why37\\lib\\site-packages (0.0)\n",
      "Requirement already satisfied: scikit-learn in c:\\users\\82106\\anaconda3\\envs\\why37\\lib\\site-packages (from sklearn) (0.24.2)\n",
      "Requirement already satisfied: joblib>=0.11 in c:\\users\\82106\\anaconda3\\envs\\why37\\lib\\site-packages (from scikit-learn->sklearn) (1.0.1)\n",
      "Requirement already satisfied: scipy>=0.19.1 in c:\\users\\82106\\anaconda3\\envs\\why37\\lib\\site-packages (from scikit-learn->sklearn) (1.6.3)\n",
      "Requirement already satisfied: threadpoolctl>=2.0.0 in c:\\users\\82106\\anaconda3\\envs\\why37\\lib\\site-packages (from scikit-learn->sklearn) (2.1.0)\n",
      "Requirement already satisfied: numpy>=1.13.3 in c:\\users\\82106\\anaconda3\\envs\\why37\\lib\\site-packages (from scikit-learn->sklearn) (1.19.2)\n"
     ]
    }
   ],
   "source": [
    "import sys\n",
    "!{sys.executable} -m pip install sklearn"
   ]
  },
  {
   "cell_type": "markdown",
   "id": "incredible-julian",
   "metadata": {},
   "source": [
    "# model 생성"
   ]
  },
  {
   "cell_type": "markdown",
   "id": "distributed-hardwood",
   "metadata": {},
   "source": [
    "### - fit 함수"
   ]
  },
  {
   "cell_type": "code",
   "execution_count": 212,
   "id": "substantial-barrel",
   "metadata": {},
   "outputs": [
    {
     "data": {
      "text/plain": [
       "<module 'sklearn.linear_model' from 'C:\\\\Users\\\\82106\\\\anaconda3\\\\envs\\\\why37\\\\lib\\\\site-packages\\\\sklearn\\\\linear_model\\\\__init__.py'>"
      ]
     },
     "execution_count": 212,
     "metadata": {},
     "output_type": "execute_result"
    }
   ],
   "source": [
    "from sklearn import linear_model\n",
    "import imp\n",
    "imp.reload(linear_model)"
   ]
  },
  {
   "cell_type": "code",
   "execution_count": 213,
   "id": "certified-citizenship",
   "metadata": {},
   "outputs": [],
   "source": [
    "lr = linear_model.LinearRegression(fit_intercept=True)"
   ]
  },
  {
   "cell_type": "code",
   "execution_count": 214,
   "id": "defensive-occurrence",
   "metadata": {},
   "outputs": [
    {
     "data": {
      "text/plain": [
       "LinearRegression()"
      ]
     },
     "execution_count": 214,
     "metadata": {},
     "output_type": "execute_result"
    }
   ],
   "source": [
    "lr.fit(X, y)"
   ]
  },
  {
   "cell_type": "code",
   "execution_count": 215,
   "id": "flush-waters",
   "metadata": {},
   "outputs": [
    {
     "data": {
      "text/plain": [
       "-0.12015553181322502"
      ]
     },
     "execution_count": 215,
     "metadata": {},
     "output_type": "execute_result"
    }
   ],
   "source": [
    "lr.intercept_"
   ]
  },
  {
   "cell_type": "code",
   "execution_count": 216,
   "id": "sought-montgomery",
   "metadata": {},
   "outputs": [
    {
     "data": {
      "text/plain": [
       "array([1.00077825])"
      ]
     },
     "execution_count": 216,
     "metadata": {},
     "output_type": "execute_result"
    }
   ],
   "source": [
    "lr.coef_"
   ]
  },
  {
   "cell_type": "code",
   "execution_count": 217,
   "id": "harmful-parker",
   "metadata": {},
   "outputs": [
    {
     "data": {
      "text/plain": [
       "array([23.89852242, 49.91875687, 14.89151819, 37.9094179 , 86.94755205,\n",
       "       35.9078614 , 11.88918345, 80.94288256, 24.89930067,  4.88373571])"
      ]
     },
     "execution_count": 217,
     "metadata": {},
     "output_type": "execute_result"
    }
   ],
   "source": [
    "lr.predict(X)[:10]"
   ]
  },
  {
   "cell_type": "markdown",
   "id": "lined-spring",
   "metadata": {},
   "source": [
    "# Model Validation"
   ]
  },
  {
   "cell_type": "code",
   "execution_count": 218,
   "id": "mediterranean-recovery",
   "metadata": {},
   "outputs": [],
   "source": [
    "from sklearn import linear_model"
   ]
  },
  {
   "cell_type": "code",
   "execution_count": 219,
   "id": "necessary-account",
   "metadata": {},
   "outputs": [
    {
     "data": {
      "text/plain": [
       "LinearRegression()"
      ]
     },
     "execution_count": 219,
     "metadata": {},
     "output_type": "execute_result"
    }
   ],
   "source": [
    "sk_lr = linear_model.LinearRegression(normalize=False)\n",
    "sk_lr.fit(X, y)"
   ]
  },
  {
   "cell_type": "code",
   "execution_count": 220,
   "id": "understanding-pepper",
   "metadata": {},
   "outputs": [
    {
     "data": {
      "text/plain": [
       "-0.12015553181322502"
      ]
     },
     "execution_count": 220,
     "metadata": {},
     "output_type": "execute_result"
    }
   ],
   "source": [
    "sk_lr.intercept_"
   ]
  },
  {
   "cell_type": "code",
   "execution_count": 221,
   "id": "fatty-dating",
   "metadata": {},
   "outputs": [
    {
     "data": {
      "text/plain": [
       "array([1.00077825])"
      ]
     },
     "execution_count": 221,
     "metadata": {},
     "output_type": "execute_result"
    }
   ],
   "source": [
    "sk_lr.coef_"
   ]
  },
  {
   "cell_type": "code",
   "execution_count": 222,
   "id": "variable-butler",
   "metadata": {},
   "outputs": [
    {
     "data": {
      "text/plain": [
       "array([23.89852242, 49.91875687, 14.89151819, 37.9094179 , 86.94755205,\n",
       "       35.9078614 , 11.88918345, 80.94288256, 24.89930067,  4.88373571])"
      ]
     },
     "execution_count": 222,
     "metadata": {},
     "output_type": "execute_result"
    }
   ],
   "source": [
    "sk_lr.predict(X)[:10]"
   ]
  },
  {
   "cell_type": "code",
   "execution_count": 223,
   "id": "competent-clear",
   "metadata": {},
   "outputs": [
    {
     "data": {
      "text/plain": [
       "array([ True])"
      ]
     },
     "execution_count": 223,
     "metadata": {},
     "output_type": "execute_result"
    }
   ],
   "source": [
    "np.isclose(lr.coef_, sk_lr.coef_)"
   ]
  },
  {
   "cell_type": "code",
   "execution_count": 224,
   "id": "musical-kuwait",
   "metadata": {},
   "outputs": [
    {
     "data": {
      "text/html": [
       "<div>\n",
       "<style scoped>\n",
       "    .dataframe tbody tr th:only-of-type {\n",
       "        vertical-align: middle;\n",
       "    }\n",
       "\n",
       "    .dataframe tbody tr th {\n",
       "        vertical-align: top;\n",
       "    }\n",
       "\n",
       "    .dataframe thead th {\n",
       "        text-align: right;\n",
       "    }\n",
       "</style>\n",
       "<table border=\"1\" class=\"dataframe\">\n",
       "  <thead>\n",
       "    <tr style=\"text-align: right;\">\n",
       "      <th></th>\n",
       "      <th>x</th>\n",
       "      <th>y</th>\n",
       "    </tr>\n",
       "  </thead>\n",
       "  <tbody>\n",
       "    <tr>\n",
       "      <th>0</th>\n",
       "      <td>77</td>\n",
       "      <td>79.775152</td>\n",
       "    </tr>\n",
       "    <tr>\n",
       "      <th>1</th>\n",
       "      <td>21</td>\n",
       "      <td>23.177279</td>\n",
       "    </tr>\n",
       "    <tr>\n",
       "      <th>2</th>\n",
       "      <td>22</td>\n",
       "      <td>25.609262</td>\n",
       "    </tr>\n",
       "    <tr>\n",
       "      <th>3</th>\n",
       "      <td>20</td>\n",
       "      <td>17.857388</td>\n",
       "    </tr>\n",
       "    <tr>\n",
       "      <th>4</th>\n",
       "      <td>36</td>\n",
       "      <td>41.849864</td>\n",
       "    </tr>\n",
       "  </tbody>\n",
       "</table>\n",
       "</div>"
      ],
      "text/plain": [
       "    x          y\n",
       "0  77  79.775152\n",
       "1  21  23.177279\n",
       "2  22  25.609262\n",
       "3  20  17.857388\n",
       "4  36  41.849864"
      ]
     },
     "execution_count": 224,
     "metadata": {},
     "output_type": "execute_result"
    }
   ],
   "source": [
    "df_test = pd.read_csv(\"./test.csv\")\n",
    "df_test.head()"
   ]
  },
  {
   "cell_type": "code",
   "execution_count": 225,
   "id": "spread-kernel",
   "metadata": {},
   "outputs": [
    {
     "data": {
      "text/plain": [
       "array([23.89852242, 49.91875687, 14.89151819, 37.9094179 , 86.94755205])"
      ]
     },
     "execution_count": 225,
     "metadata": {},
     "output_type": "execute_result"
    }
   ],
   "source": [
    "X_test = df[\"x\"].values.reshape(-1,1)\n",
    "lr.predict(X_test)[:5]"
   ]
  },
  {
   "cell_type": "code",
   "execution_count": 226,
   "id": "assisted-hollywood",
   "metadata": {},
   "outputs": [
    {
     "data": {
      "text/plain": [
       "array([23.89852242, 49.91875687, 14.89151819, 37.9094179 , 86.94755205])"
      ]
     },
     "execution_count": 226,
     "metadata": {},
     "output_type": "execute_result"
    }
   ],
   "source": [
    "lr.predict(X_test)[:5]"
   ]
  },
  {
   "cell_type": "code",
   "execution_count": 227,
   "id": "distant-shape",
   "metadata": {},
   "outputs": [
    {
     "data": {
      "text/plain": [
       "array([23.89852242, 49.91875687, 14.89151819, 37.9094179 , 86.94755205])"
      ]
     },
     "execution_count": 227,
     "metadata": {},
     "output_type": "execute_result"
    }
   ],
   "source": [
    "sk_lr.predict(X_test)[:5]"
   ]
  },
  {
   "cell_type": "markdown",
   "id": "corresponding-contact",
   "metadata": {},
   "source": [
    "# plot"
   ]
  },
  {
   "cell_type": "code",
   "execution_count": 228,
   "id": "further-livestock",
   "metadata": {},
   "outputs": [],
   "source": [
    "raw_X = df['x'].values.reshape(-1, 1)\n",
    "y = df['y'].values"
   ]
  },
  {
   "cell_type": "code",
   "execution_count": 229,
   "id": "tested-nomination",
   "metadata": {},
   "outputs": [
    {
     "data": {
      "text/plain": [
       "(array([[24],\n",
       "        [50],\n",
       "        [15],\n",
       "        [38],\n",
       "        [87]], dtype=int64),\n",
       " array([21.54945196, 47.46446305, 17.21865634, 36.58639803, 87.28898389]))"
      ]
     },
     "execution_count": 229,
     "metadata": {},
     "output_type": "execute_result"
    }
   ],
   "source": [
    "raw_X[:5], y[:5]"
   ]
  },
  {
   "cell_type": "code",
   "execution_count": 230,
   "id": "upset-budapest",
   "metadata": {},
   "outputs": [
    {
     "data": {
      "text/plain": [
       "[<matplotlib.lines.Line2D at 0x23c539f28c8>]"
      ]
     },
     "execution_count": 230,
     "metadata": {},
     "output_type": "execute_result"
    },
    {
     "data": {
      "image/png": "[encoded data removed]",
      "text/plain": [
       "<Figure size 720x360 with 1 Axes>"
      ]
     },
     "metadata": {
      "needs_background": "light"
     },
     "output_type": "display_data"
    }
   ],
   "source": [
    "import matplotlib.pyplot as plt\n",
    "plt.figure(figsize = (10, 5))\n",
    "plt.plot(raw_X, y, 'o', alpha = 0.5)"
   ]
  },
  {
   "cell_type": "code",
   "execution_count": 231,
   "id": "european-bibliography",
   "metadata": {},
   "outputs": [],
   "source": [
    "X = np.concatenate((np.ones((len(raw_X), 1)), raw_X), axis = 1)\n",
    "X_new = np.array([[0],[2]])\n",
    "X_new_b = np.c_[np.ones((2,1)), X_new]"
   ]
  },
  {
   "cell_type": "code",
   "execution_count": 232,
   "id": "portuguese-happiness",
   "metadata": {},
   "outputs": [],
   "source": [
    "y1 = y.copy()"
   ]
  },
  {
   "cell_type": "code",
   "execution_count": 233,
   "id": "portuguese-engagement",
   "metadata": {},
   "outputs": [
    {
     "data": {
      "text/plain": [
       "(2, 350)"
      ]
     },
     "execution_count": 233,
     "metadata": {},
     "output_type": "execute_result"
    }
   ],
   "source": [
    "y1 = y1.reshape(2,-1)\n",
    "y1.shape"
   ]
  },
  {
   "cell_type": "code",
   "execution_count": 234,
   "id": "valuable-falls",
   "metadata": {},
   "outputs": [
    {
     "data": {
      "text/plain": [
       "(2, 2)"
      ]
     },
     "execution_count": 234,
     "metadata": {},
     "output_type": "execute_result"
    }
   ],
   "source": [
    "X_new_b.shape"
   ]
  },
  {
   "cell_type": "code",
   "execution_count": 235,
   "id": "wrapped-burns",
   "metadata": {
    "scrolled": true
   },
   "outputs": [],
   "source": [
    "# np.linalg를 통해 정규방적식 계산\n",
    "theta_best = np.linalg.inv(X_new_b.T.dot(X_new_b)).dot(X_new_b.T).dot(y1)"
   ]
  },
  {
   "cell_type": "code",
   "execution_count": 249,
   "id": "mexican-pastor",
   "metadata": {
    "scrolled": false
   },
   "outputs": [
    {
     "data": {
      "text/plain": [
       "array([[ 21.54945196,  47.46446305,  17.21865634,  36.58639803,\n",
       "         87.28898389,  32.46387493,  10.78089683,  80.7633986 ,\n",
       "         24.61215147,   6.96331907,  11.23757338,  13.53290206,\n",
       "         24.60323899,  39.40049976,  48.43753838,  61.69900319,\n",
       "         26.92832418,  70.4052055 ,  29.34092408,  25.30895192,\n",
       "         69.02934339,  84.99484703,  57.04310305,  50.5921991 ,\n",
       "         83.02772202,  57.05752706,  47.95883341,  24.34226432,\n",
       "         94.68488281,  48.03970696,   7.08132338,  21.99239907,\n",
       "         42.33151664,   0.32908944,  61.92303698,  91.17716423,\n",
       "         39.45358014,   5.99606961,  22.59015942,  61.18044414,\n",
       "         85.02778957,  -1.28631089,  61.94273962,  21.96033347,\n",
       "         33.66194193,  17.60946242,  58.5630564 ,  52.82390762,\n",
       "         22.1363481 ,  35.07467353,  86.18822311,  42.63227697,\n",
       "          4.09817744,  61.2229864 ,  17.70677576,  11.85312574,\n",
       "         80.23051695,  62.64931741,   9.6168598 ,  20.02797699,\n",
       "         61.7510743 ,  71.61010303,  23.77154623,  51.90142035,\n",
       "         22.66073682,  50.02897927,  26.68794368,   0.3769119 ,\n",
       "          6.806419  ,  77.33986001,  28.90260209,  66.7346608 ,\n",
       "          0.70751064,  57.07748383,  28.41453196,  44.46272123,\n",
       "          7.459606  ,   2.31670811,   4.92854619,  52.50336074,\n",
       "         91.19109623,   8.48916433,   6.96337197,  31.97989959,\n",
       "         81.4281205 ,  22.62365422,  78.52505087,  25.80714057,\n",
       "         73.51081775,  91.775467  ,  49.21863516,  80.50445387,\n",
       "         50.05636123,  25.46292549,  55.32164264,  59.1244888 ,\n",
       "          1.10068669,  71.98020786,  30.13666408,  83.88427405,\n",
       "         89.91004752,   8.33565458,  47.88388961,  45.00397413,\n",
       "         31.15664574,   9.19037568,  74.83135003,  30.23177607,\n",
       "         24.21914027,  57.87219151,  50.61728392,  78.67470043,\n",
       "         86.236707  ,  89.10409255,  43.26595082,  26.68273277,\n",
       "         59.46383041,  28.90055826,  31.300416  ,  71.1433266 ,\n",
       "         68.4739206 ,  39.98238856,   4.07577614,  47.85817542,\n",
       "         51.20390217,  43.9367213 ,  38.13626679,   3.57466163,\n",
       "         36.4139958 ,  22.21908523,  63.5312572 ,  49.86702787,\n",
       "         21.53140009,  64.05710234,  70.77549842,  92.15749762,\n",
       "         81.22259156,  25.10114067,  94.08853397,  53.25166165,\n",
       "         59.16236621,  75.24148428,  28.22325833,  25.33323728,\n",
       "          6.3646157 ,  95.4609216 ,  88.64183756,  58.70318693,\n",
       "          6.81549128,  99.40394676,  32.77049249,  47.0586788 ,\n",
       "         60.53321778,  40.30929858,  89.42222685,  86.82132066,\n",
       "         26.11697543,  53.26657596,  96.62327888,  95.78441027,\n",
       "          6.04728669,  24.47387908,  75.96844763,   3.82938101,\n",
       "         52.51703683,  72.80457527,  14.10999096,  80.86087062,\n",
       "         77.01988215,  86.26972444,  77.13735466,  51.47649476,\n",
       "         17.34557531,  57.72853572,  44.15029394,  59.24362743,\n",
       "         -1.05327561,  86.79002254,  60.14031858,  44.04222058,\n",
       "         24.5227488 ,  52.95305521,  43.16133498,  45.67562576,\n",
       "         -2.8307495 ,  29.19693178,  96.49812401,  22.5453232 ,\n",
       "         20.10741433,   4.03543025,  61.14568518,  13.97163653,\n",
       "         55.34529893,  12.18441166,  64.00077658,  70.3188322 ,\n",
       "         -0.93689505,  18.91422276,  23.87590331,  47.5775361 ,\n",
       "         43.2736092 ,  66.48278755,  75.72605529,  80.59643338,\n",
       "         -2.23587985,  47.04654956,  21.59635575,  32.87558963,\n",
       "         57.95782956,  52.24760027,  24.58286902,  12.12573805,\n",
       "        100.0158026 ,  30.15736917,  74.04682658,   1.61194747,\n",
       "         70.36836307,  52.26831735,  83.1286166 ,  43.64765048,\n",
       "         49.44785426,  72.6356699 ,  52.78130641,  57.11195136,\n",
       "         79.1050629 , 101.6228548 ,  53.5825402 ,  68.92139297,\n",
       "         46.9666961 ,  51.02642868,  85.52073551,  99.51685756,\n",
       "         94.63911256,  46.78357742,  21.21321959,  58.37266004,\n",
       "         87.22059677, 102.4967859 ,  43.88314335,  53.06655757,\n",
       "         26.33464785,  98.52008934,   9.40049758,  52.94026699,\n",
       "         53.83020877,  45.94511142,  65.0132736 ,  86.5069584 ,\n",
       "         75.63280796,  36.78035027, 100.5328916 ,  29.04466136,\n",
       "         51.70352433,   9.19995472,  71.70015848,  49.82634062,\n",
       "         37.49971096,  53.65084683,  33.92561965,  49.92639685,\n",
       "          8.14815426,  49.72359037,  16.16712757,  75.30033002,\n",
       "          9.57736857,  48.38088357,  72.95331671,  92.59573853,\n",
       "         88.85523586,  99.00361771,  45.09439571,  46.94362684,\n",
       "         48.33449605,  94.92329574,  47.78165248,  81.28960746,\n",
       "         37.83155021,  39.69185252,  76.92664854,  88.02990531,\n",
       "         56.99178872,  72.58929383,  44.98103442,  11.99017641,\n",
       "          1.91951333,   1.62882607,  66.27746655,  57.53887255,\n",
       "         94.70291077,  41.21469904,  25.04169243,   3.77820991,\n",
       "         50.50711779,   9.68240849,  48.88147608,  54.40348599,\n",
       "         71.70233156,  69.35848388,  99.98491591,  26.03323718,\n",
       "         75.48910307,  36.59623056,  40.95102191,  86.78316267,\n",
       "         15.50701184,  85.86077871,  79.20610113,  80.80643766,\n",
       "         48.59717283,  13.93415049,  27.3051179 ,  14.00226297,\n",
       "         33.67416   ,  13.11612884,  24.76649193,  73.68477876,\n",
       "         77.53149541,  76.24503196,  88.0578931 ,  35.02445799,\n",
       "         21.65857739,  17.33681562,  94.36778957,  33.43396307,\n",
       "         32.52179399,  90.57741298,  71.25634126,  31.23212856,\n",
       "          5.39884006,  18.56241391,  71.97121038,   5.22575957,\n",
       "         73.5964342 ,  49.76948983,  82.69087513,   1.65230909,\n",
       "         -3.83665214,  62.03811556,  61.26514581,  13.24991628,\n",
       "         88.61672694,  21.13655528,  23.85017475,  92.01203405,\n",
       "         10.26712261,  54.14681616,  87.00645713,  37.69447352,\n",
       "         19.62278654,  34.78561007],\n",
       "       [ 20.24122893,   2.60278748,  20.43582921,  30.30404509,\n",
       "          1.60628455,   9.02423564,  41.83561094, -29.82772612,\n",
       "          6.37541642,   1.66121468,  42.40587539,  43.28123382,\n",
       "          3.00153885,  28.39475283,  11.43537098, -13.55294638,\n",
       "         -3.95249771, -29.81925431,  30.61953136,  11.70446243,\n",
       "          4.85602713,   0.12003785,   7.30739829, -20.82660427,\n",
       "        -21.56583078,  17.39669205,  25.57658517,   0.93985027,\n",
       "        -30.73452028,  -6.15789002,  34.90236078,  38.6581733 ,\n",
       "         -8.27995295,  33.76130231,  18.29033693, -30.03192264,\n",
       "          3.02906507,   3.32965424,  36.48524712, -25.82700625,\n",
       "        -24.45942874,  23.86129703, -32.89136037,  13.50634345,\n",
       "         29.79555653,   2.93352363, -20.71377254, -19.13247309,\n",
       "          9.7017896 ,  28.286316  , -10.01084873, -16.70070974,\n",
       "         21.65780074, -13.2292854 ,  34.20059531,   4.9797769 ,\n",
       "        -15.66543872,  -7.93411552,   1.64821283,  37.26202722,\n",
       "         16.60980662, -34.61546527,  -1.14585817,  -8.05173287,\n",
       "         29.70782174,  14.42099893,  10.28064941,  47.90580568,\n",
       "         35.78925013, -17.19855968,  17.76485693,   8.73862702,\n",
       "         28.29973383,  -2.27823473,  -1.33525383,  15.48005639,\n",
       "         23.08281204,  36.41397748,  34.59648446,  -8.12764415,\n",
       "        -35.48721862,  29.22920843,  13.55470529,  20.57930043,\n",
       "          5.71558552,   2.87214193,   3.5340182 ,  -7.56130151,\n",
       "          6.29813424, -29.27757641,   8.43849953, -30.59979421,\n",
       "         -0.6054702 ,  34.13441881,  10.06797175,  16.05895173,\n",
       "         43.02811092, -23.22133976,   7.96481535, -17.11574872,\n",
       "        -41.26390168,  31.38812239,  17.8109078 , -18.10641712,\n",
       "          1.07487164,   8.60662478,   8.44912861,  26.14926556,\n",
       "          6.22924353,  14.55615602,  -9.13472108, -30.94558035,\n",
       "        -42.33006131, -35.82113923, -20.5749189 ,  -1.16734473,\n",
       "         -5.58445921,  28.31044814,  21.2069659 ,  -3.99571581,\n",
       "        -15.00589188, -10.25569034,  44.99925305,  10.03116872,\n",
       "        -14.31146988, -13.96021121,   5.14840604,  13.04634913,\n",
       "         -4.87916626,  32.03149108,  -6.35410398,  19.35274463,\n",
       "          5.53420368, -21.51620433, -25.02327432, -35.88849287,\n",
       "        -11.98539501,  -9.06680181, -41.92422448,   5.84837461,\n",
       "         -1.90171353, -21.99891419,  31.24861493,  16.70844486,\n",
       "         24.74270814, -17.63083146,  -1.80444172,   0.84252196,\n",
       "          5.8156533 ,  -8.60777715,  30.76292096, -19.68832711,\n",
       "          0.24268156,   6.64816179,   2.52753058, -29.42836298,\n",
       "         18.21982521, -25.93016077,   2.53853116, -40.96733519,\n",
       "         11.47520323,  37.28463892, -30.20354624,  10.40295146,\n",
       "          0.73344845, -14.945039  ,  30.09331508,   5.1546291 ,\n",
       "        -13.7977367 ,  -1.89644463, -10.49215756,  -7.15293173,\n",
       "         14.51185565,  19.64764942,  -1.65923645, -17.57932215,\n",
       "         21.0985696 , -32.40807094,  20.30028921,   8.57874769,\n",
       "         24.93621061,   8.04535826,   6.76292647, -19.90761702,\n",
       "         29.27548153,  25.01164319,  -5.09817442,   1.36219783,\n",
       "          8.11276507,  11.81015601,  16.82561006,  22.35101509,\n",
       "          0.40702289,   3.11239111,  11.13429665, -21.86223513,\n",
       "          4.6947076 ,  18.63354621,   1.88931169, -13.35180913,\n",
       "         17.27996759,  -8.23245465, -33.21759952,  -2.78398044,\n",
       "         20.26982483,  -1.16934276,   0.456905  ,  34.81017778,\n",
       "         14.40531144, -19.17505724,   0.11768684,  10.90825528,\n",
       "         -3.87305101,  19.28814082, -13.33082888,  15.38191084,\n",
       "          8.65276187,   1.15408318, -32.53205719, -17.87555532,\n",
       "         -7.22222174, -17.95371836,   6.53422392,  16.24050178,\n",
       "         -8.70740044, -45.00893083,   8.75007005, -12.60119067,\n",
       "         -2.69624301,  11.61454778,  -9.61881557, -31.4462384 ,\n",
       "        -42.15768195, -19.81355988,  23.33640586,  21.36854953,\n",
       "          5.69630326, -26.15297373,  -8.02209037,   1.42919941,\n",
       "         25.06938043,  -3.23126278,   8.97597841,   1.19028388,\n",
       "         -6.21515264,  23.82272941, -29.85810979, -32.74633209,\n",
       "        -36.68287425, -18.45110539, -17.01871476,  22.39585775,\n",
       "         -4.80105778,  34.0757013 , -15.33882034, -17.53664395,\n",
       "         22.89113963,  18.1414483 , -15.81952398,   2.84390806,\n",
       "         27.00248991,  19.91722246,  38.91789553, -24.26004577,\n",
       "         -5.1709531 , -24.04900878, -14.34265578, -36.37199858,\n",
       "        -20.8478179 , -45.32212557,  23.49358756,  -2.52814316,\n",
       "         -8.89659157, -24.02337551,  24.28747118, -31.68626878,\n",
       "         16.92397448,  -3.52093849, -18.79090945, -35.49794266,\n",
       "         -2.05827399, -28.36757267,  31.94529194,  18.65729806,\n",
       "         43.77771719,  31.02232817,   8.75332145,   7.98624834,\n",
       "        -23.94996917, -17.70237612,  30.09429366,   3.40196486,\n",
       "        -14.56506731,  18.18568301,  23.17872461,  19.87400303,\n",
       "         -8.57682555,   9.00206031,  -5.75374996,  29.2236098 ,\n",
       "        -13.34631618, -12.91473687,  -5.23109635, -28.50735041,\n",
       "         -0.99563217,   0.13439006, -17.95293683, -14.44266767,\n",
       "        -16.05265998,  -2.96803853,  35.18088889,  37.90159535,\n",
       "          2.19875284,  23.58119719,  -9.02864809, -27.66494476,\n",
       "        -10.58045669,  -6.72219496, -23.40316839,  -7.79904129,\n",
       "         30.61539032,  23.1384171 , -41.53575879,  13.29439287,\n",
       "         20.04079964, -39.34888362,  14.72246622,   6.94603977,\n",
       "          4.70611399,  14.76563321, -14.83987683,  23.75406919,\n",
       "        -18.43623217, -10.56206892, -10.2620612 ,  46.96614305,\n",
       "         34.93995259,  18.95925347,  -7.55786298,  37.94381667,\n",
       "         -9.44942444,  -4.4095944 ,  27.17639396, -10.35104017,\n",
       "         35.59416224,   2.22409513,   3.8093183 ,  25.45464821,\n",
       "         22.01294938,  30.09482772]])"
      ]
     },
     "execution_count": 249,
     "metadata": {},
     "output_type": "execute_result"
    }
   ],
   "source": [
    "theta_best"
   ]
  },
  {
   "cell_type": "code",
   "execution_count": 250,
   "id": "numerous-arena",
   "metadata": {},
   "outputs": [],
   "source": [
    "X_new = np.array([[0],[2]])\n",
    "X_new_b = np.c_[np.ones((2,1)), X_new]"
   ]
  },
  {
   "cell_type": "code",
   "execution_count": 251,
   "id": "covered-warner",
   "metadata": {
    "scrolled": false
   },
   "outputs": [
    {
     "data": {
      "text/plain": [
       "array([[ 21.54945196,  47.46446305,  17.21865634,  36.58639803,\n",
       "         87.28898389,  32.46387493,  10.78089683,  80.7633986 ,\n",
       "         24.61215147,   6.96331907,  11.23757338,  13.53290206,\n",
       "         24.60323899,  39.40049976,  48.43753838,  61.69900319,\n",
       "         26.92832418,  70.4052055 ,  29.34092408,  25.30895192,\n",
       "         69.02934339,  84.99484703,  57.04310305,  50.5921991 ,\n",
       "         83.02772202,  57.05752706,  47.95883341,  24.34226432,\n",
       "         94.68488281,  48.03970696,   7.08132338,  21.99239907,\n",
       "         42.33151664,   0.32908944,  61.92303698,  91.17716423,\n",
       "         39.45358014,   5.99606961,  22.59015942,  61.18044414,\n",
       "         85.02778957,  -1.28631089,  61.94273962,  21.96033347,\n",
       "         33.66194193,  17.60946242,  58.5630564 ,  52.82390762,\n",
       "         22.1363481 ,  35.07467353,  86.18822311,  42.63227697,\n",
       "          4.09817744,  61.2229864 ,  17.70677576,  11.85312574,\n",
       "         80.23051695,  62.64931741,   9.6168598 ,  20.02797699,\n",
       "         61.7510743 ,  71.61010303,  23.77154623,  51.90142035,\n",
       "         22.66073682,  50.02897927,  26.68794368,   0.3769119 ,\n",
       "          6.806419  ,  77.33986001,  28.90260209,  66.7346608 ,\n",
       "          0.70751064,  57.07748383,  28.41453196,  44.46272123,\n",
       "          7.459606  ,   2.31670811,   4.92854619,  52.50336074,\n",
       "         91.19109623,   8.48916433,   6.96337197,  31.97989959,\n",
       "         81.4281205 ,  22.62365422,  78.52505087,  25.80714057,\n",
       "         73.51081775,  91.775467  ,  49.21863516,  80.50445387,\n",
       "         50.05636123,  25.46292549,  55.32164264,  59.1244888 ,\n",
       "          1.10068669,  71.98020786,  30.13666408,  83.88427405,\n",
       "         89.91004752,   8.33565458,  47.88388961,  45.00397413,\n",
       "         31.15664574,   9.19037568,  74.83135003,  30.23177607,\n",
       "         24.21914027,  57.87219151,  50.61728392,  78.67470043,\n",
       "         86.236707  ,  89.10409255,  43.26595082,  26.68273277,\n",
       "         59.46383041,  28.90055826,  31.300416  ,  71.1433266 ,\n",
       "         68.4739206 ,  39.98238856,   4.07577614,  47.85817542,\n",
       "         51.20390217,  43.9367213 ,  38.13626679,   3.57466163,\n",
       "         36.4139958 ,  22.21908523,  63.5312572 ,  49.86702787,\n",
       "         21.53140009,  64.05710234,  70.77549842,  92.15749762,\n",
       "         81.22259156,  25.10114067,  94.08853397,  53.25166165,\n",
       "         59.16236621,  75.24148428,  28.22325833,  25.33323728,\n",
       "          6.3646157 ,  95.4609216 ,  88.64183756,  58.70318693,\n",
       "          6.81549128,  99.40394676,  32.77049249,  47.0586788 ,\n",
       "         60.53321778,  40.30929858,  89.42222685,  86.82132066,\n",
       "         26.11697543,  53.26657596,  96.62327888,  95.78441027,\n",
       "          6.04728669,  24.47387908,  75.96844763,   3.82938101,\n",
       "         52.51703683,  72.80457527,  14.10999096,  80.86087062,\n",
       "         77.01988215,  86.26972444,  77.13735466,  51.47649476,\n",
       "         17.34557531,  57.72853572,  44.15029394,  59.24362743,\n",
       "         -1.05327561,  86.79002254,  60.14031858,  44.04222058,\n",
       "         24.5227488 ,  52.95305521,  43.16133498,  45.67562576,\n",
       "         -2.8307495 ,  29.19693178,  96.49812401,  22.5453232 ,\n",
       "         20.10741433,   4.03543025,  61.14568518,  13.97163653,\n",
       "         55.34529893,  12.18441166,  64.00077658,  70.3188322 ,\n",
       "         -0.93689505,  18.91422276,  23.87590331,  47.5775361 ,\n",
       "         43.2736092 ,  66.48278755,  75.72605529,  80.59643338,\n",
       "         -2.23587985,  47.04654956,  21.59635575,  32.87558963,\n",
       "         57.95782956,  52.24760027,  24.58286902,  12.12573805,\n",
       "        100.0158026 ,  30.15736917,  74.04682658,   1.61194747,\n",
       "         70.36836307,  52.26831735,  83.1286166 ,  43.64765048,\n",
       "         49.44785426,  72.6356699 ,  52.78130641,  57.11195136,\n",
       "         79.1050629 , 101.6228548 ,  53.5825402 ,  68.92139297,\n",
       "         46.9666961 ,  51.02642868,  85.52073551,  99.51685756,\n",
       "         94.63911256,  46.78357742,  21.21321959,  58.37266004,\n",
       "         87.22059677, 102.4967859 ,  43.88314335,  53.06655757,\n",
       "         26.33464785,  98.52008934,   9.40049758,  52.94026699,\n",
       "         53.83020877,  45.94511142,  65.0132736 ,  86.5069584 ,\n",
       "         75.63280796,  36.78035027, 100.5328916 ,  29.04466136,\n",
       "         51.70352433,   9.19995472,  71.70015848,  49.82634062,\n",
       "         37.49971096,  53.65084683,  33.92561965,  49.92639685,\n",
       "          8.14815426,  49.72359037,  16.16712757,  75.30033002,\n",
       "          9.57736857,  48.38088357,  72.95331671,  92.59573853,\n",
       "         88.85523586,  99.00361771,  45.09439571,  46.94362684,\n",
       "         48.33449605,  94.92329574,  47.78165248,  81.28960746,\n",
       "         37.83155021,  39.69185252,  76.92664854,  88.02990531,\n",
       "         56.99178872,  72.58929383,  44.98103442,  11.99017641,\n",
       "          1.91951333,   1.62882607,  66.27746655,  57.53887255,\n",
       "         94.70291077,  41.21469904,  25.04169243,   3.77820991,\n",
       "         50.50711779,   9.68240849,  48.88147608,  54.40348599,\n",
       "         71.70233156,  69.35848388,  99.98491591,  26.03323718,\n",
       "         75.48910307,  36.59623056,  40.95102191,  86.78316267,\n",
       "         15.50701184,  85.86077871,  79.20610113,  80.80643766,\n",
       "         48.59717283,  13.93415049,  27.3051179 ,  14.00226297,\n",
       "         33.67416   ,  13.11612884,  24.76649193,  73.68477876,\n",
       "         77.53149541,  76.24503196,  88.0578931 ,  35.02445799,\n",
       "         21.65857739,  17.33681562,  94.36778957,  33.43396307,\n",
       "         32.52179399,  90.57741298,  71.25634126,  31.23212856,\n",
       "          5.39884006,  18.56241391,  71.97121038,   5.22575957,\n",
       "         73.5964342 ,  49.76948983,  82.69087513,   1.65230909,\n",
       "         -3.83665214,  62.03811556,  61.26514581,  13.24991628,\n",
       "         88.61672694,  21.13655528,  23.85017475,  92.01203405,\n",
       "         10.26712261,  54.14681616,  87.00645713,  37.69447352,\n",
       "         19.62278654,  34.78561007],\n",
       "       [ 62.03190983,  52.67003801,  58.09031476,  97.19448821,\n",
       "         90.50155298,  50.5123462 ,  94.45211871,  21.10794636,\n",
       "         37.36298431,  10.28574844,  96.04932416, 100.0953697 ,\n",
       "         30.6063167 ,  96.19000542,  71.30828034,  34.59311043,\n",
       "         19.02332876,  10.76669688,  90.5799868 ,  48.71787679,\n",
       "         78.74139764,  85.23492274,  71.65789964,   8.93899055,\n",
       "         39.89606046,  91.85091116,  99.11200375,  26.22196486,\n",
       "         33.21584226,  35.72392691,  76.88604495,  99.30874567,\n",
       "         25.77161074,  67.85169407,  98.50371084,  31.11331895,\n",
       "         45.51171028,  12.65537808,  95.56065366,   9.52643164,\n",
       "         36.10893209,  46.43628318,  -3.83998112,  48.97302037,\n",
       "         93.25305499,  23.47650968,  17.13551132,  14.55896144,\n",
       "         41.53992729,  91.64730552,  66.16652565,   9.23085749,\n",
       "         47.41377893,  34.76441561,  86.10796637,  21.81267954,\n",
       "         48.89963951,  46.78108638,  12.91328547,  94.55203143,\n",
       "         94.97068753,   2.37917248,  21.47982988,  35.79795462,\n",
       "         82.0763803 ,  78.87097714,  47.2492425 ,  96.18852325,\n",
       "         78.38491927,  42.94274064,  64.43231595,  84.21191485,\n",
       "         57.3069783 ,  52.52101436,  25.7440243 ,  75.42283401,\n",
       "         53.62523007,  75.14466308,  74.12151511,  36.24807243,\n",
       "         20.21665898,  66.94758118,  34.07278254,  73.13850045,\n",
       "         92.85929155,  28.36793808,  85.59308727,  10.68453755,\n",
       "         86.10708624,  33.22031418,  66.09563422,  19.30486546,\n",
       "         48.84542083,  93.73176312,  75.45758614,  91.24239226,\n",
       "         87.15690853,  25.53752833,  46.06629478,  49.65277661,\n",
       "          7.38224417,  71.11189935,  83.50570521,   8.79113989,\n",
       "         33.30638903,  26.40362524,  91.72960726,  82.53030719,\n",
       "         36.67762733,  86.98450355,  32.34784175,  16.78353974,\n",
       "          1.57658438,  17.4618141 ,   2.11611303,  24.34804332,\n",
       "         48.29491198,  85.52145453,  73.71434779,  63.15189497,\n",
       "         38.46213684,  19.47100788,  94.07428225,  67.92051286,\n",
       "         22.58096241,  16.01629889,  48.43307886,  29.6673599 ,\n",
       "         26.65566328,  86.28206739,  50.82304924,  88.57251713,\n",
       "         32.59980745,  21.02469368,  20.72894979,  20.38051187,\n",
       "         57.25180153,   6.96753705,  10.240085  ,  64.94841088,\n",
       "         55.35893915,  31.24365589,  90.72048818,  58.750127  ,\n",
       "         55.85003198,  60.19925869,  85.03295412,  60.38823085,\n",
       "         18.44679787,  82.18839247,  94.2963344 ,   7.68202459,\n",
       "         61.01858089,  53.60562216,  94.47728801,  27.9645947 ,\n",
       "         62.55662585,   1.40625441, 101.7003412 ,  13.84973988,\n",
       "         28.99769315,  99.04315693,  15.56135514,  24.63528393,\n",
       "         53.98393374,  42.91449728,  74.29662112,  91.17012883,\n",
       "         49.42440876,  82.47683519,  56.15303953,  37.17063131,\n",
       "         46.36928662,  97.02383456,  40.83182104,  24.08498313,\n",
       "         41.14386358,  21.97388066, 100.740897  ,  61.19971596,\n",
       "         74.39517002,  69.04377173,  56.68718792,   5.86039171,\n",
       "         55.72021356,  79.22021816,  86.30177517,  25.26971886,\n",
       "         36.33294447,  27.65574228,  94.79690531,  58.67366671,\n",
       "         56.15934471,  18.40919388,  86.26936988,  26.59436195,\n",
       "          8.45252016,  56.18131518,  27.65452669,  20.87391785,\n",
       "         77.83354439,  50.01787825,   9.29085626,  75.0284725 ,\n",
       "         38.3037698 ,  44.70786405,  22.51016575, 102.4959452 ,\n",
       "         86.76845244,  13.89748578,  24.81824269,  33.94224862,\n",
       "         92.26970059,  68.73365081,  47.38516883,  32.37576914,\n",
       "         87.67388681,  54.57648371,  18.06450222,   7.89653984,\n",
       "         35.00341078,  36.72823317,  65.84975426,  89.59295492,\n",
       "         61.69026202,  11.60499315,  71.0826803 ,  43.71901164,\n",
       "         41.57421008,  74.25552425,  66.28310437,  36.62438077,\n",
       "         10.32374866,   7.15645766,  67.88603132, 101.1097591 ,\n",
       "         98.6132033 ,  50.19083844,  27.83896261,  55.9249564 ,\n",
       "         76.47340872,  92.05756378,  27.35245439,  55.32083476,\n",
       "         41.39990349,  93.59057024,   5.29705403,  21.01429422,\n",
       "          2.26705945,  -0.1218605 ,  66.49546208,  73.83637687,\n",
       "         42.10140878,  77.35135732,  41.02251779,  14.75305272,\n",
       "         83.28199022,  89.93374342,   2.28657169,  55.61421297,\n",
       "         62.15313408,  89.55803528,  94.00291863,  26.78023848,\n",
       "         -0.76453763,   0.282866  ,  44.26800515,  19.85174138,\n",
       "         47.15960005,   8.35936657,  92.08157084,  41.88734051,\n",
       "         30.5413129 ,  46.87654473,  96.35659485,  17.9170699 ,\n",
       "         71.67949917,  32.64997554,  39.34482965,  17.03401999,\n",
       "         52.87524074,  15.85414849, 108.8716183 ,  49.30477253,\n",
       "         89.4749477 ,  63.67348242,  83.78410946,  73.51136922,\n",
       "         46.80297244,   5.8099468 ,  85.23027975,  10.58213964,\n",
       "         21.37698317,  46.0537745 ,  95.2389253 ,  94.15149206,\n",
       "         54.54868046,  87.36260449,  88.47741598,  84.48045678,\n",
       "         48.79647071,  10.76675683,  30.48882921,  29.76846185,\n",
       "         13.51574749,  86.12955884,  43.30022747,  51.92110232,\n",
       "         16.49185287,   7.99807343,  97.66689567,  89.80545367,\n",
       "         38.07166567,  60.27852322,   6.70919576,  18.35488924,\n",
       "         56.37058203,  62.80064204,  41.25155632,  19.42637541,\n",
       "         82.88935804,  63.61364981,  11.29627199,  60.02274882,\n",
       "         72.60339326,  11.87964573, 100.7012737 ,  45.12420809,\n",
       "         14.81106804,  48.09368034,  42.29145672,  52.73389794,\n",
       "         36.72396986,  28.64535198,  62.16675273,  95.58459518,\n",
       "         66.04325304,  99.9566225 ,  46.14941984,  89.13754963,\n",
       "         69.71787806,  12.31736648,  78.20296268,  71.30995371,\n",
       "         81.45544709,  58.59500642,  94.62509374,  88.60376995,\n",
       "         63.64868529,  94.9752655 ]])"
      ]
     },
     "execution_count": 251,
     "metadata": {},
     "output_type": "execute_result"
    }
   ],
   "source": [
    "y_predict = X_new_b.dot(theta_best)\n",
    "y_predict"
   ]
  },
  {
   "cell_type": "code",
   "execution_count": 252,
   "id": "ongoing-dairy",
   "metadata": {},
   "outputs": [
    {
     "data": {
      "image/png": "[encoded data removed]",
      "text/plain": [
       "<Figure size 432x288 with 1 Axes>"
      ]
     },
     "metadata": {
      "needs_background": "light"
     },
     "output_type": "display_data"
    }
   ],
   "source": [
    "plt.plot(X_new, y_predict, \"r-\")\n",
    "plt.plot(raw_X, y, \"o\")\n",
    "# plt.axis([0,2,0,15])\n",
    "plt.show()"
   ]
  },
  {
   "cell_type": "code",
   "execution_count": 253,
   "id": "trained-telescope",
   "metadata": {
    "scrolled": false
   },
   "outputs": [
    {
     "data": {
      "image/png": "[encoded data removed]",
      "text/plain": [
       "<Figure size 432x288 with 1 Axes>"
      ]
     },
     "metadata": {
      "needs_background": "light"
     },
     "output_type": "display_data"
    }
   ],
   "source": [
    "plt.scatter(y, theta_best)\n",
    "plt.show()"
   ]
  },
  {
   "cell_type": "markdown",
   "id": "focal-bowling",
   "metadata": {},
   "source": [
    "# Multiple variable"
   ]
  },
  {
   "cell_type": "markdown",
   "id": "atmospheric-century",
   "metadata": {},
   "source": [
    "### - Linear Regression with Normal equation"
   ]
  },
  {
   "cell_type": "markdown",
   "id": "challenging-interstate",
   "metadata": {},
   "source": [
    "#### 1)"
   ]
  },
  {
   "cell_type": "code",
   "execution_count": 254,
   "id": "everyday-filing",
   "metadata": {
    "scrolled": true
   },
   "outputs": [
    {
     "data": {
      "text/html": [
       "<div>\n",
       "<style scoped>\n",
       "    .dataframe tbody tr th:only-of-type {\n",
       "        vertical-align: middle;\n",
       "    }\n",
       "\n",
       "    .dataframe tbody tr th {\n",
       "        vertical-align: top;\n",
       "    }\n",
       "\n",
       "    .dataframe thead th {\n",
       "        text-align: right;\n",
       "    }\n",
       "</style>\n",
       "<table border=\"1\" class=\"dataframe\">\n",
       "  <thead>\n",
       "    <tr style=\"text-align: right;\">\n",
       "      <th></th>\n",
       "      <th>height_in_feet</th>\n",
       "      <th>weight_in_pounds</th>\n",
       "      <th>successful_field_goals</th>\n",
       "      <th>percent_of_successful_free_throws</th>\n",
       "      <th>average_points_scored</th>\n",
       "    </tr>\n",
       "  </thead>\n",
       "  <tbody>\n",
       "    <tr>\n",
       "      <th>0</th>\n",
       "      <td>6.8</td>\n",
       "      <td>225</td>\n",
       "      <td>0.442</td>\n",
       "      <td>0.672</td>\n",
       "      <td>9.2</td>\n",
       "    </tr>\n",
       "    <tr>\n",
       "      <th>1</th>\n",
       "      <td>6.3</td>\n",
       "      <td>180</td>\n",
       "      <td>0.435</td>\n",
       "      <td>0.797</td>\n",
       "      <td>11.7</td>\n",
       "    </tr>\n",
       "    <tr>\n",
       "      <th>2</th>\n",
       "      <td>6.4</td>\n",
       "      <td>190</td>\n",
       "      <td>0.456</td>\n",
       "      <td>0.761</td>\n",
       "      <td>15.8</td>\n",
       "    </tr>\n",
       "    <tr>\n",
       "      <th>3</th>\n",
       "      <td>6.2</td>\n",
       "      <td>180</td>\n",
       "      <td>0.416</td>\n",
       "      <td>0.651</td>\n",
       "      <td>8.6</td>\n",
       "    </tr>\n",
       "    <tr>\n",
       "      <th>4</th>\n",
       "      <td>6.9</td>\n",
       "      <td>205</td>\n",
       "      <td>0.449</td>\n",
       "      <td>0.900</td>\n",
       "      <td>23.2</td>\n",
       "    </tr>\n",
       "  </tbody>\n",
       "</table>\n",
       "</div>"
      ],
      "text/plain": [
       "   height_in_feet  weight_in_pounds  successful_field_goals  \\\n",
       "0             6.8               225                   0.442   \n",
       "1             6.3               180                   0.435   \n",
       "2             6.4               190                   0.456   \n",
       "3             6.2               180                   0.416   \n",
       "4             6.9               205                   0.449   \n",
       "\n",
       "   percent_of_successful_free_throws  average_points_scored  \n",
       "0                              0.672                    9.2  \n",
       "1                              0.797                   11.7  \n",
       "2                              0.761                   15.8  \n",
       "3                              0.651                    8.6  \n",
       "4                              0.900                   23.2  "
      ]
     },
     "execution_count": 254,
     "metadata": {},
     "output_type": "execute_result"
    }
   ],
   "source": [
    "df = pd.read_csv(\"./mlr09.csv\")\n",
    "df.head()"
   ]
  },
  {
   "cell_type": "code",
   "execution_count": 255,
   "id": "fiscal-variation",
   "metadata": {},
   "outputs": [],
   "source": [
    "y = df[\"average_points_scored\"].values\n",
    "X = df.iloc[:,:-1].values"
   ]
  },
  {
   "cell_type": "markdown",
   "id": "digital-comedy",
   "metadata": {},
   "source": [
    "# RESCALED"
   ]
  },
  {
   "cell_type": "code",
   "execution_count": 256,
   "id": "established-oklahoma",
   "metadata": {},
   "outputs": [],
   "source": [
    "mu_X = np.mean(X, axis=0)\n",
    "std_X = np.std(X, axis=0)"
   ]
  },
  {
   "cell_type": "code",
   "execution_count": 257,
   "id": "acknowledged-remedy",
   "metadata": {},
   "outputs": [],
   "source": [
    "theta_best = np.linalg.inv(X.T.dot(X)).dot(X.T).dot(y)"
   ]
  },
  {
   "cell_type": "code",
   "execution_count": 258,
   "id": "fossil-duration",
   "metadata": {},
   "outputs": [
    {
     "name": "stdout",
     "output_type": "stream",
     "text": [
      "[-3.04634035e+00  4.47411947e-03  4.82210324e+01  1.24703504e+01]\n"
     ]
    }
   ],
   "source": [
    "print(theta_best)"
   ]
  },
  {
   "cell_type": "code",
   "execution_count": 259,
   "id": "upper-wheel",
   "metadata": {},
   "outputs": [
    {
     "data": {
      "text/plain": [
       "(4,)"
      ]
     },
     "execution_count": 259,
     "metadata": {},
     "output_type": "execute_result"
    }
   ],
   "source": [
    "theta_best.shape"
   ]
  },
  {
   "cell_type": "code",
   "execution_count": 164,
   "id": "successful-establishment",
   "metadata": {},
   "outputs": [
    {
     "data": {
      "text/plain": [
       "(54,)"
      ]
     },
     "execution_count": 164,
     "metadata": {},
     "output_type": "execute_result"
    }
   ],
   "source": [
    "y.shape"
   ]
  },
  {
   "cell_type": "code",
   "execution_count": 162,
   "id": "eleven-oxford",
   "metadata": {},
   "outputs": [],
   "source": [
    "theta_best = theta_best.reshape(-1,1)"
   ]
  },
  {
   "cell_type": "code",
   "execution_count": 85,
   "id": "imperial-transmission",
   "metadata": {},
   "outputs": [],
   "source": [
    "y = y.reshape(-1,1)"
   ]
  },
  {
   "cell_type": "code",
   "execution_count": null,
   "id": "danish-institute",
   "metadata": {},
   "outputs": [],
   "source": [
    "lr.fit(theta_best, y)"
   ]
  },
  {
   "cell_type": "code",
   "execution_count": null,
   "id": "actual-remains",
   "metadata": {
    "scrolled": false
   },
   "outputs": [],
   "source": [
    "lr.coef_"
   ]
  },
  {
   "cell_type": "code",
   "execution_count": null,
   "id": "sophisticated-economics",
   "metadata": {},
   "outputs": [],
   "source": [
    "lr.intercept_"
   ]
  },
  {
   "cell_type": "code",
   "execution_count": null,
   "id": "bridal-guest",
   "metadata": {},
   "outputs": [],
   "source": [
    "sk_lr.fit(y_predict, y)"
   ]
  },
  {
   "cell_type": "code",
   "execution_count": null,
   "id": "arabic-force",
   "metadata": {
    "scrolled": false
   },
   "outputs": [],
   "source": [
    "sk_lr.coef_"
   ]
  },
  {
   "cell_type": "code",
   "execution_count": null,
   "id": "decimal-defendant",
   "metadata": {},
   "outputs": [],
   "source": [
    "sk_lr.intercept_"
   ]
  },
  {
   "cell_type": "markdown",
   "id": "liable-mercy",
   "metadata": {},
   "source": [
    "#### 2)"
   ]
  },
  {
   "cell_type": "code",
   "execution_count": 260,
   "id": "understanding-herald",
   "metadata": {},
   "outputs": [
    {
     "data": {
      "text/html": [
       "<div>\n",
       "<style scoped>\n",
       "    .dataframe tbody tr th:only-of-type {\n",
       "        vertical-align: middle;\n",
       "    }\n",
       "\n",
       "    .dataframe tbody tr th {\n",
       "        vertical-align: top;\n",
       "    }\n",
       "\n",
       "    .dataframe thead th {\n",
       "        text-align: right;\n",
       "    }\n",
       "</style>\n",
       "<table border=\"1\" class=\"dataframe\">\n",
       "  <thead>\n",
       "    <tr style=\"text-align: right;\">\n",
       "      <th></th>\n",
       "      <th>height_in_feet</th>\n",
       "      <th>weight_in_pounds</th>\n",
       "      <th>successful_field_goals</th>\n",
       "      <th>percent_of_successful_free_throws</th>\n",
       "      <th>average_points_scored</th>\n",
       "    </tr>\n",
       "  </thead>\n",
       "  <tbody>\n",
       "    <tr>\n",
       "      <th>0</th>\n",
       "      <td>6.8</td>\n",
       "      <td>225</td>\n",
       "      <td>0.442</td>\n",
       "      <td>0.672</td>\n",
       "      <td>9.2</td>\n",
       "    </tr>\n",
       "    <tr>\n",
       "      <th>1</th>\n",
       "      <td>6.3</td>\n",
       "      <td>180</td>\n",
       "      <td>0.435</td>\n",
       "      <td>0.797</td>\n",
       "      <td>11.7</td>\n",
       "    </tr>\n",
       "    <tr>\n",
       "      <th>2</th>\n",
       "      <td>6.4</td>\n",
       "      <td>190</td>\n",
       "      <td>0.456</td>\n",
       "      <td>0.761</td>\n",
       "      <td>15.8</td>\n",
       "    </tr>\n",
       "    <tr>\n",
       "      <th>3</th>\n",
       "      <td>6.2</td>\n",
       "      <td>180</td>\n",
       "      <td>0.416</td>\n",
       "      <td>0.651</td>\n",
       "      <td>8.6</td>\n",
       "    </tr>\n",
       "    <tr>\n",
       "      <th>4</th>\n",
       "      <td>6.9</td>\n",
       "      <td>205</td>\n",
       "      <td>0.449</td>\n",
       "      <td>0.900</td>\n",
       "      <td>23.2</td>\n",
       "    </tr>\n",
       "  </tbody>\n",
       "</table>\n",
       "</div>"
      ],
      "text/plain": [
       "   height_in_feet  weight_in_pounds  successful_field_goals  \\\n",
       "0             6.8               225                   0.442   \n",
       "1             6.3               180                   0.435   \n",
       "2             6.4               190                   0.456   \n",
       "3             6.2               180                   0.416   \n",
       "4             6.9               205                   0.449   \n",
       "\n",
       "   percent_of_successful_free_throws  average_points_scored  \n",
       "0                              0.672                    9.2  \n",
       "1                              0.797                   11.7  \n",
       "2                              0.761                   15.8  \n",
       "3                              0.651                    8.6  \n",
       "4                              0.900                   23.2  "
      ]
     },
     "execution_count": 260,
     "metadata": {},
     "output_type": "execute_result"
    }
   ],
   "source": [
    "df = pd.read_csv(\"./mlr09.csv\")\n",
    "df.head()"
   ]
  },
  {
   "cell_type": "code",
   "execution_count": 261,
   "id": "dutch-genius",
   "metadata": {},
   "outputs": [],
   "source": [
    "X = df.iloc[:,:-1].values\n",
    "y = df[\"average_points_scored\"].values"
   ]
  },
  {
   "cell_type": "code",
   "execution_count": 262,
   "id": "worthy-simpson",
   "metadata": {},
   "outputs": [],
   "source": [
    "from sklearn.linear_model import  LinearRegression\n",
    "lr_ne = LinearRegression(fit_intercept=True)"
   ]
  },
  {
   "cell_type": "code",
   "execution_count": 263,
   "id": "statutory-efficiency",
   "metadata": {},
   "outputs": [],
   "source": [
    "from sklearn.model_selection import train_test_split\n",
    "X_train, X_test, y_train, y_test = train_test_split(\n",
    "    X, y, test_size=0.33, random_state=42)"
   ]
  },
  {
   "cell_type": "code",
   "execution_count": 264,
   "id": "formed-conjunction",
   "metadata": {
    "scrolled": true
   },
   "outputs": [
    {
     "data": {
      "text/plain": [
       "LinearRegression()"
      ]
     },
     "execution_count": 264,
     "metadata": {},
     "output_type": "execute_result"
    }
   ],
   "source": [
    "lr_ne.fit(X_train, y_train)"
   ]
  },
  {
   "cell_type": "code",
   "execution_count": 265,
   "id": "central-society",
   "metadata": {},
   "outputs": [],
   "source": [
    "y_hat = lr_ne.predict(X_test)\n",
    "y_true = y_test"
   ]
  },
  {
   "cell_type": "code",
   "execution_count": 266,
   "id": "suited-football",
   "metadata": {},
   "outputs": [
    {
     "data": {
      "text/plain": [
       "6.758915758097025"
      ]
     },
     "execution_count": 266,
     "metadata": {},
     "output_type": "execute_result"
    }
   ],
   "source": [
    "rmse = np.sqrt((((y_hat - y_true)**2).sum() / len(y_true)))\n",
    "rmse"
   ]
  },
  {
   "cell_type": "code",
   "execution_count": 267,
   "id": "meaningful-parent",
   "metadata": {},
   "outputs": [
    {
     "data": {
      "text/plain": [
       "45.68294222505229"
      ]
     },
     "execution_count": 267,
     "metadata": {},
     "output_type": "execute_result"
    }
   ],
   "source": [
    "import sklearn\n",
    "mse = sklearn.metrics.mean_squared_error(y_hat, y_true)\n",
    "mse"
   ]
  },
  {
   "cell_type": "code",
   "execution_count": 268,
   "id": "valuable-group",
   "metadata": {},
   "outputs": [
    {
     "data": {
      "text/plain": [
       "Text(0.5, 1.0, '$Y_i$ vs $\\\\hat{Y}_i$')"
      ]
     },
     "execution_count": 268,
     "metadata": {},
     "output_type": "execute_result"
    },
    {
     "data": {
      "image/png": "[encoded data removed]",
      "text/plain": [
       "<Figure size 432x288 with 1 Axes>"
      ]
     },
     "metadata": {
      "needs_background": "light"
     },
     "output_type": "display_data"
    }
   ],
   "source": [
    "plt.scatter(y_true, y_hat, s=10)\n",
    "plt.xlabel(\"Prices: $Y_i$\")\n",
    "plt.ylabel(\"Predicted prices: $\\hat{Y}_i$\")\n",
    "plt.title(\"$Y_i$ vs $\\hat{Y}_i$\")"
   ]
  },
  {
   "cell_type": "code",
   "execution_count": 269,
   "id": "broad-floor",
   "metadata": {},
   "outputs": [
    {
     "data": {
      "text/plain": [
       "array([-5.86830444e+00,  1.79466515e-02,  4.83185003e+01,  7.86009101e+00])"
      ]
     },
     "execution_count": 269,
     "metadata": {},
     "output_type": "execute_result"
    }
   ],
   "source": [
    "lr_ne.coef_"
   ]
  },
  {
   "cell_type": "code",
   "execution_count": 270,
   "id": "fatal-satellite",
   "metadata": {},
   "outputs": [
    {
     "data": {
      "text/plain": [
       "19.255108403121575"
      ]
     },
     "execution_count": 270,
     "metadata": {},
     "output_type": "execute_result"
    }
   ],
   "source": [
    "lr_ne.intercept_"
   ]
  },
  {
   "cell_type": "code",
   "execution_count": 271,
   "id": "weird-warrior",
   "metadata": {},
   "outputs": [
    {
     "data": {
      "text/plain": [
       "array([ 9.2, 11.7, 15.8,  8.6, 23.2, 27.4,  9.3, 16. ,  4.7, 12.5, 20.1,\n",
       "        9.1,  8.1,  8.6, 20.3, 25. , 19.2,  3.3, 11.2, 10.5, 10.1,  7.2,\n",
       "       13.6,  9. , 24.6, 12.6,  5.6,  8.7,  7.7, 24.1, 11.7,  7.7,  9.6,\n",
       "        7.2, 12.3,  8.9, 13.6, 11.2,  2.8,  3.2,  9.4, 11.9, 15.4,  7.4,\n",
       "       18.9,  7.9, 12.2, 11. ,  2.8, 11.8, 17.1, 11.6,  5.8,  8.3])"
      ]
     },
     "execution_count": 271,
     "metadata": {},
     "output_type": "execute_result"
    }
   ],
   "source": [
    "y"
   ]
  },
  {
   "cell_type": "code",
   "execution_count": 272,
   "id": "thorough-culture",
   "metadata": {},
   "outputs": [
    {
     "data": {
      "text/plain": [
       "array([1.00077825])"
      ]
     },
     "execution_count": 272,
     "metadata": {},
     "output_type": "execute_result"
    }
   ],
   "source": [
    "sk_lr.coef_"
   ]
  },
  {
   "cell_type": "code",
   "execution_count": 273,
   "id": "metallic-honolulu",
   "metadata": {},
   "outputs": [
    {
     "data": {
      "text/plain": [
       "-0.12015553181322502"
      ]
     },
     "execution_count": 273,
     "metadata": {},
     "output_type": "execute_result"
    }
   ],
   "source": [
    "sk_lr.intercept_"
   ]
  }
 ],
 "metadata": {
  "kernelspec": {
   "display_name": "Python 3",
   "language": "python",
   "name": "python3"
  },
  "language_info": {
   "codemirror_mode": {
    "name": "ipython",
    "version": 3
   },
   "file_extension": ".py",
   "mimetype": "text/x-python",
   "name": "python",
   "nbconvert_exporter": "python",
   "pygments_lexer": "ipython3",
   "version": "3.7.10"
  }
 },
 "nbformat": 4,
 "nbformat_minor": 5
}
